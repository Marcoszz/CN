{
 "cells": [
  {
   "cell_type": "markdown",
   "metadata": {},
   "source": [
    "# Métodos para Resolução de Sistemas Lineares #\n",
    "\n",
    "Nesta aula, iremos implementar métodos para encontrar vetores de solução $x$ para sistemas lineares no formato $Ax=b$.\n",
    "\n",
    "# Preliminares #\n",
    "\n",
    "### Resolvendo sistemas triangulares ###\n",
    "\n",
    "Normalmente, para resolver sistemas lineares, precisamos chegar de alguma forma a sistemas triangulares (inferiores ou superiores). Por que? Porque eles podem ser resolvidos pelo método das substituições retroativas.\n",
    "\n",
    "\n",
    "\n",
    "$$ x_{i} = \\frac{b_{i}-\\sum\\limits_{j=1}^{i-1}{a_{ij}x_{j}}}{a_{ii}} $$\n",
    "\n",
    "e\n",
    "\n",
    "$$ x_{i} = \\frac{b_{i}-\\sum\\limits_{j=i+1}^{n}{a_{ij}x_{j}}}{a_{ii}} $$\n",
    "\n",
    "Faça duas funções, que recebendo como parâmetro uma matriz $A$ triangular (superior ou inferior) e um vetor $b$, retorne o vetor solução $X$:"
   ]
  },
  {
   "cell_type": "code",
   "execution_count": null,
   "metadata": {
    "collapsed": true
   },
   "outputs": [],
   "source": [
    "def resolveTS(A,b): #A Triangular Superior\n",
    "    \n",
    "    return x\n",
    "\n",
    "def resolveTI(A,b): #A Triangular Inferior\n",
    "    \n",
    "    return x\n"
   ]
  },
  {
   "cell_type": "markdown",
   "metadata": {},
   "source": [
    "### Operações $l$-elementares ###\n",
    "\n",
    "Fazer operações $l$-elementares com matrizes numpy é bem simples: com `M[i:]` você acessa a i-ésima linha:"
   ]
  },
  {
   "cell_type": "code",
   "execution_count": null,
   "metadata": {
    "collapsed": true
   },
   "outputs": [],
   "source": [
    "import numpy as np\n",
    "\n",
    "M = np.random.randint(-10,10,(4,4))\n",
    "print(M)\n",
    "\n",
    "print(\"Subtraindo uma linha por outra multiplicada por uma constante:\")\n",
    "M[2] = M[2] - M[1]*2\n",
    "print(M)\n",
    "\n",
    "print(\"Trocar duas linhas:\")\n",
    "\n",
    "M[[1,3]] = M[[3,1]]\n",
    "print(M)\n"
   ]
  },
  {
   "cell_type": "markdown",
   "metadata": {},
   "source": [
    "### Outras operações com Matrizes ###"
   ]
  },
  {
   "cell_type": "code",
   "execution_count": null,
   "metadata": {
    "collapsed": true
   },
   "outputs": [],
   "source": [
    "print(\"Achar o maior elemento da matriz:\")\n",
    "print(M[1].max())\n",
    "\n",
    "print(\"Achar o maior elemento da matriz em módulo:\")\n",
    "print(abs(M[:][2]).max())\n",
    "\n",
    "# E PARA ACHAR O MAIOR ELEMENTO DE UMA LINHA?\n",
    "print(M[:][2])"
   ]
  },
  {
   "cell_type": "code",
   "execution_count": null,
   "metadata": {
    "collapsed": true
   },
   "outputs": [],
   "source": [
    "print(\"Matriz transposta:\\n\",M[1:3].T)\n",
    "\n",
    "print(\"Determinante de M: \",np.linalg.det(M))\n",
    "\n",
    "print(\"Autovalores de uma matriz:\")\n",
    "\n",
    "(a,_) = np.linalg.eig(M) \n",
    "print(a)"
   ]
  },
  {
   "cell_type": "markdown",
   "metadata": {},
   "source": [
    "# Métodos Exatos #\n",
    "\n",
    "## Eliminação gaussiana ##\n",
    "\n",
    "Para fazer a eliminação gaussiana deve-se usar os elementos da diagonal principal de A como pivos para zerar os elementos da mesma coluna.\n",
    "\n",
    "Implemente a eliminação gaussiana simples (sem pivotação parcial):"
   ]
  },
  {
   "cell_type": "code",
   "execution_count": null,
   "metadata": {
    "collapsed": true
   },
   "outputs": [],
   "source": [
    "def eliminacaoGaussianaSimples(A,b):\n",
    "    \n",
    "    return x"
   ]
  },
  {
   "cell_type": "markdown",
   "metadata": {},
   "source": [
    "## Decomposição LU ##\n",
    "\n",
    "A decomposição LU é mais utilizada quando a mesma matriz de coeficientes $A$ é usada para várias soluções diferentes. Por isto, ela pode ser dividida em dois passos:\n",
    "\n",
    "- Decompor $A$ em $L$ e $U$ \n",
    "- Dados $L$, $U$ e $b$, achar a solução X\n",
    "\n",
    "Faça as duas funções, com a decomposição ainda sem pivotação parcial:"
   ]
  },
  {
   "cell_type": "code",
   "execution_count": null,
   "metadata": {
    "collapsed": true
   },
   "outputs": [],
   "source": [
    "def decompoeLU(A):\n",
    "    return L,U\n",
    "\n",
    "def resolveLU(L,U,b):\n",
    "    \n",
    "    return x"
   ]
  },
  {
   "cell_type": "markdown",
   "metadata": {},
   "source": [
    "### Pivotação Parcial ###\n",
    "\n",
    "Sistemas onde o determinante de uma das submatrizes principais ($A_{1x1},A_{2x2},A_{3x3}...$) é igual a $0$ não podem ser resolvidos com a decomposição LU simples. Nestes casos, deve-se utilizar a pivotação parcial, onde o pivô é escolhido da linha com o maior elemento em módulo.\n",
    "\n",
    "Contudo, é importante guardar as trocas de linha que foram efetuadas na matriz de permutações $P$. Esta matriz é uma matriz identidade com as linhas trocadas junto com a pivotação. Por exemplo, se na primeira coluna o maior elemento está na linha três, este será o primeiro pivô (a linha 1 será trocada com a 3). Neste caso, na matriz $P$ também se troca estas linhas. No fim do processo:\n",
    "\n",
    "$PAx = Pb$\n",
    "\n",
    "$LUx=Pb$\n",
    "\n",
    "Então basta resolver trocando as linhas de b de através da multiplicação por P. Lembrem que multiplicar matrizes em numpy é:\n",
    "\n",
    "`p.dot(a)` ou `dot(p,a)`\n",
    "\n",
    "Implemente uma função que checa se a pivotação parcial é necessária e a decomposição LU com pivotação parcial:"
   ]
  },
  {
   "cell_type": "code",
   "execution_count": null,
   "metadata": {
    "collapsed": true
   },
   "outputs": [],
   "source": [
    "def verificaPivot(A):\n",
    "    \n",
    "    return pode\n",
    "\n",
    "def LUparcial(A):\n",
    "    \n",
    "    return L,U,P\n",
    "\n",
    "def resolveLUpar(L,U,P,b):\n",
    "    \n",
    "    return x"
   ]
  },
  {
   "cell_type": "markdown",
   "metadata": {},
   "source": [
    "#### Exercício ####\n",
    "\n",
    "Rode e verifique o tempo com `%timeit` da eliminação gaussiana, decomposição LU e LU com pivotação para o sistema abaixo. No caso da LU, calcule o tempo da decomposição e da solução dos sistemas:"
   ]
  },
  {
   "cell_type": "code",
   "execution_count": null,
   "metadata": {
    "collapsed": true
   },
   "outputs": [],
   "source": [
    "#Sistema 1:\n",
    "\n",
    "M1 = np.array([[1,-3,5,6], [-8,4,-1,0],[3,2,-2,7],[1,2,5,-4]])\n",
    "b1 = np.array([17,29,-11,7])\n",
    "\n",
    "#Sistema 2:\n",
    "\n",
    "M2 = np.array([[-2,3,1,5],[5,1,-1,0],[1,6,3,-1],[4,5,2,8]])\n",
    "b2 = np.array([2,-1,0,6])\n"
   ]
  },
  {
   "cell_type": "markdown",
   "metadata": {},
   "source": [
    "## Cholesky ##\n",
    "\n",
    "O método de Cholesky só pode ser utilizado quando a matriz for:\n",
    "\n",
    "- Simétrica (igual a sua transposta)\n",
    "- Definida positiva: \n",
    "    - Todos os elementos da diagonal principal são positivos\n",
    "    - Todos os autovalores de $A$ são positivos\n",
    "    - Todas as submatrizes superiores possuem determinante __positivo__.\n",
    "\n",
    "Se for possível, o método de Cholesky é uma decomposição LU onde $U=L^{T}$, ou seja $LL^{T}x=b$.\n",
    "\n",
    "Lembrando que na decomposição de Cholesky os elementos da diagonal principal de L são:\n",
    "\n",
    "$$l_{jj} = \\sqrt{a_{jj}-\\sum\\limits_{k=1}^{j-1}{l_{jk}^2}, j = 1,2,...,n}$$\n",
    "\n",
    "E os fora da diagonal principal são:\n",
    "\n",
    "$$ l_{ij} = \\frac{a_{ij}-\\sum\\limits_{k=1}^{j-1}{l_{ik}l_{jk}}}{l_{jj}} $$\n",
    "\n",
    "Desta forma, faça uma função para determinar se uma matriz pode ser resolvida via Cholesky e uma para encontrar L (para resolver pode-se usar `resolveLU(L,L.T,b)`):"
   ]
  },
  {
   "cell_type": "code",
   "execution_count": null,
   "metadata": {
    "collapsed": true
   },
   "outputs": [],
   "source": [
    "def verificaCholesky(A):\n",
    "    \n",
    "    return pode\n",
    "\n",
    "def geraCholesky(A):\n",
    "    \n",
    "    return L"
   ]
  },
  {
   "cell_type": "markdown",
   "metadata": {},
   "source": [
    "No método de Cholesky, por ser uma matriz simétrica, podemos, ao invés de calcular o determinante normalmente, usar a seguinte definição:\n",
    "\n",
    "$$ det(A) = det(L)det(L') $$\n",
    "\n",
    "$$ det(A) = \\bigg(\\prod_{i=1}^{n}{l_{ii}}\\bigg)^2 $$"
   ]
  },
  {
   "cell_type": "code",
   "execution_count": 1,
   "metadata": {
    "collapsed": true
   },
   "outputs": [],
   "source": [
    "def detCholesky(M):\n",
    "    \n",
    "    return det"
   ]
  },
  {
   "cell_type": "markdown",
   "metadata": {},
   "source": [
    "#### Exercicios ####\n",
    "\n",
    "1 - Verifique se os seguintes sistemas podem ser resolvidas via Choleski\n",
    "\n",
    "2 - Compare o tempo para decomposição LU das que são possíveis com a de Choleski usando `%timeit`\n",
    "\n",
    "3 - Compare o tempo do calculo do determinante de numpy com o determinante específico para matrizes para choleski"
   ]
  },
  {
   "cell_type": "code",
   "execution_count": null,
   "metadata": {
    "collapsed": true
   },
   "outputs": [],
   "source": [
    "M3 = np.array([[9,-6,3],[-6,29,-7],[3,-7,18]])\n",
    "b3 = np.array([-3,-8,33])\n",
    "\n",
    "M4 = np.array([[4,-2,4,10],[-2,2,-1,-7],[4,-1,14,11],10,-7,11,31])\n",
    "b4 = np.array([2,2,-1,-2])\n",
    "\n",
    "M5 = np.array([[16,-4,4,12],[-4,2,-1,-7],[4,-1,26,13],[12,-7,13,25]])\n",
    "b5 = np.array([2,2,-1,-2])\n"
   ]
  }
 ],
 "metadata": {
  "kernelspec": {
   "display_name": "Python 3",
   "language": "python",
   "name": "python3"
  },
  "language_info": {
   "codemirror_mode": {
    "name": "ipython",
    "version": 3
   },
   "file_extension": ".py",
   "mimetype": "text/x-python",
   "name": "python",
   "nbconvert_exporter": "python",
   "pygments_lexer": "ipython3",
   "version": "3.6.1"
  }
 },
 "nbformat": 4,
 "nbformat_minor": 2
}
