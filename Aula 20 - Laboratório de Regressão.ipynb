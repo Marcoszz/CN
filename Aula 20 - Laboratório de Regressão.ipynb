{
 "cells": [
  {
   "cell_type": "markdown",
   "metadata": {},
   "source": [
    "# Regressao em Python #\n",
    "\n",
    "Vamos agora implementar a Regressão Linear para usarmos com esses dados.\n",
    "\n",
    "Para resolver a regressão, basta montar o sistema linear correspondente aos dados de entrada:\n",
    "\n",
    "$$\n",
    "\\begin{bmatrix}\n",
    "n & \\sum\\limits _ { i = 1 } ^ { n } x _ { i 1 } & \\sum\\limits _ { i = 1 } ^ { n } x _ { i 2 } & \\dots & \\sum\\limits _ { i = 1 } ^ { n } x _ { i p }\\\\\n",
    "\\sum\\limits _ { i = 1 } ^ { n } x _ { i 1 } & \\sum\\limits _ { i = 1 } ^ { n } x _ { i 1 }x _ { i 1 } & \\sum\\limits _ { i = 1 } ^ { n } x _ { i 2 }x _ { i 1 } & \\dots & \\sum\\limits _ { i = 1 } ^ { n } x _ { i p }x _ { i 1 }\\\\\n",
    "\\sum\\limits _ { i = 1 } ^ { n } x _ { i 2 } & \\sum\\limits _ { i = 1 } ^ { n } x _ { i 1 }x _ { i 2 } & \\sum\\limits _ { i = 1 } ^ { n } x _ { i 2 }x _ { i 2 } & \\dots & \\sum\\limits _ { i = 1 } ^ { n } x _ { i p }x _ { i 2 }\\\\\n",
    "\\vdots & \\vdots & \\vdots & \\vdots & \\vdots \\\\\n",
    "\\sum\\limits _ { i = 1 } ^ { n } x _ { i p } & \\sum\\limits _ { i = 1 } ^ { n } x _ { i 1 }x _ { i p } & \\sum\\limits _ { i = 1 } ^ { n } x _ { i 2 }x _ { i p } & \\dots & \\sum\\limits _ { i = 1 } ^ { n } x _ { i p }x _ { i p }\\\\\n",
    "\\end{bmatrix}\n",
    "\\begin{bmatrix}\n",
    "b_0\\\\\n",
    "b_1\\\\\n",
    "b_2\\\\\n",
    "\\vdots\\\\\n",
    "b_p\\\\\n",
    "\\end{bmatrix}\n",
    "=\n",
    "\\begin{bmatrix}\n",
    "\\sum\\limits _ { i = 1 } ^ { n } y _ { i 1 }\\\\\n",
    "\\sum\\limits _ { i = 1 } ^ { n } y_i x _ { i 1 }\\\\\n",
    "\\sum\\limits _ { i = 1 } ^ { n } y_i x _ { i 2 }\\\\\n",
    "\\vdots\\\\\n",
    "\\sum\\limits _ { i = 1 } ^ { n } y_i x _ { i p }\n",
    "\\end{bmatrix}\n",
    "$$"
   ]
  },
  {
   "cell_type": "markdown",
   "metadata": {},
   "source": [
    "O que isto quer dizer? Quer dizer que, para fazer uma regressão, basta você passar uma Matriz X contendo as variáveis independentes e um vetor Y com a variável dependente, gerar este sistema e resolvê-lo.\n",
    "\n",
    "Faça uma função que retorna os coeficientes `b` de uma regressão com os elementos da matriz X:"
   ]
  },
  {
   "cell_type": "code",
   "execution_count": 8,
   "metadata": {},
   "outputs": [
    {
     "ename": "TypeError",
     "evalue": "'numpy.float64' object cannot be interpreted as an integer",
     "output_type": "error",
     "traceback": [
      "\u001b[0;31m---------------------------------------------------------------------------\u001b[0m",
      "\u001b[0;31mTypeError\u001b[0m                                 Traceback (most recent call last)",
      "\u001b[0;32m<ipython-input-8-b8abc69eeab1>\u001b[0m in \u001b[0;36m<module>\u001b[0;34m()\u001b[0m\n\u001b[1;32m     24\u001b[0m \u001b[0;34m\u001b[0m\u001b[0m\n\u001b[1;32m     25\u001b[0m \u001b[0mb\u001b[0m \u001b[0;34m=\u001b[0m \u001b[0mregressaoLinear\u001b[0m\u001b[0;34m(\u001b[0m\u001b[0mnp\u001b[0m\u001b[0;34m.\u001b[0m\u001b[0marray\u001b[0m\u001b[0;34m(\u001b[0m\u001b[0mx\u001b[0m\u001b[0;34m)\u001b[0m\u001b[0;34m,\u001b[0m\u001b[0my\u001b[0m\u001b[0;34m)\u001b[0m\u001b[0;34m\u001b[0m\u001b[0m\n\u001b[0;32m---> 26\u001b[0;31m \u001b[0mprint\u001b[0m\u001b[0;34m(\u001b[0m\u001b[0mresolveLin\u001b[0m\u001b[0;34m(\u001b[0m\u001b[0mb\u001b[0m\u001b[0;34m,\u001b[0m\u001b[0;34m[\u001b[0m\u001b[0;36m6\u001b[0m\u001b[0;34m]\u001b[0m\u001b[0;34m)\u001b[0m\u001b[0;34m)\u001b[0m\u001b[0;34m\u001b[0m\u001b[0m\n\u001b[0m\u001b[1;32m     27\u001b[0m \u001b[0;34m\u001b[0m\u001b[0m\n\u001b[1;32m     28\u001b[0m \u001b[0;31m#b = regressaoLinear(np.array([4,4.5,5,5.5,6,6.5,7],dtype=\"float\"),np.array([33,42,45,51,53,61,62]),dtype=\"float\")\u001b[0m\u001b[0;34m\u001b[0m\u001b[0;34m\u001b[0m\u001b[0m\n",
      "\u001b[0;32m<ipython-input-8-b8abc69eeab1>\u001b[0m in \u001b[0;36mresolveLin\u001b[0;34m(b, x)\u001b[0m\n\u001b[1;32m     18\u001b[0m \u001b[0;34m\u001b[0m\u001b[0m\n\u001b[1;32m     19\u001b[0m \u001b[0;32mdef\u001b[0m \u001b[0mresolveLin\u001b[0m\u001b[0;34m(\u001b[0m\u001b[0mb\u001b[0m\u001b[0;34m,\u001b[0m\u001b[0mx\u001b[0m\u001b[0;34m)\u001b[0m\u001b[0;34m:\u001b[0m\u001b[0;34m\u001b[0m\u001b[0m\n\u001b[0;32m---> 20\u001b[0;31m     \u001b[0;32mreturn\u001b[0m \u001b[0mb\u001b[0m\u001b[0;34m[\u001b[0m\u001b[0;36m0\u001b[0m\u001b[0;34m]\u001b[0m\u001b[0;34m+\u001b[0m\u001b[0mb\u001b[0m\u001b[0;34m[\u001b[0m\u001b[0;36m1\u001b[0m\u001b[0;34m]\u001b[0m\u001b[0;34m*\u001b[0m\u001b[0mx\u001b[0m\u001b[0;34m\u001b[0m\u001b[0m\n\u001b[0m\u001b[1;32m     21\u001b[0m \u001b[0;34m\u001b[0m\u001b[0m\n\u001b[1;32m     22\u001b[0m \u001b[0mx\u001b[0m \u001b[0;34m=\u001b[0m \u001b[0mnp\u001b[0m\u001b[0;34m.\u001b[0m\u001b[0mlinspace\u001b[0m\u001b[0;34m(\u001b[0m\u001b[0;36m0\u001b[0m\u001b[0;34m,\u001b[0m\u001b[0;36m1\u001b[0m\u001b[0;34m,\u001b[0m\u001b[0;36m11\u001b[0m\u001b[0;34m)\u001b[0m\u001b[0;34m*\u001b[0m\u001b[0;36m1.0\u001b[0m\u001b[0;34m\u001b[0m\u001b[0m\n",
      "\u001b[0;31mTypeError\u001b[0m: 'numpy.float64' object cannot be interpreted as an integer"
     ]
    }
   ],
   "source": [
    "import numpy as np\n",
    "\n",
    "def regressaoLinear(x,y):\n",
    "    mx=np.zeros([2,2])\n",
    "    my=np.zeros(2)\n",
    "    mx[0][0]=len(x)\n",
    "    mx[0][1]=mx[1][0]=x.sum()\n",
    "    mx[1][1]=np.power(x.sum(),2)\n",
    "    my[0]=y.sum()\n",
    "    my[1]=(x*y).sum()\n",
    "    \n",
    "\n",
    "    return np.linalg.solve(mx,my)\n",
    "\n",
    "def regressaoLinearMultipla(x,y): #x é uma matriz ao invés de vetor\n",
    "    mx=np.vstack((np.ones(len([x0])),x))\n",
    "    my=mx.dot(y)\n",
    "    mx=mx.dot(mx.T)\n",
    "    return np.linalg.solve(mx,my)\n",
    "\n",
    "def resolveLin(b,x):\n",
    "    return b[0]+b[1:]*x\n",
    "\n",
    "x = np.linspace(0,1,11)*1.0\n",
    "y = np.sqrt(x)*1.0\n",
    "\n",
    "b = regressaoLinear(np.array(x),y)\n",
    "print(resolveLin(b,[6]))\n",
    "\n",
    "#b = regressaoLinear(np.array([4,4.5,5,5.5,6,6.5,7],dtype=\"float\"),np.array([33,42,45,51,53,61,62]),dtype=\"float\")\n",
    "#b = regressaoLinear(np.array([[14,16,27,42,39,50,83],[70,75,144,190,210,235,400]]),np.array([2,5,7,9,10,13,20]),dtype=\"float\")\n",
    "\n",
    "\n"
   ]
  },
  {
   "cell_type": "markdown",
   "metadata": {},
   "source": [
    "Agora vamos testar seu método: Faça uma regressão entre nota dos críticos e vendas na América do Norte, considerando apenas os jogos que possuem ambas informações:"
   ]
  },
  {
   "cell_type": "code",
   "execution_count": null,
   "metadata": {
    "scrolled": true
   },
   "outputs": [],
   "source": [
    "import numpy as np\n",
    "import pandas as pd\n",
    "from pandas import Series, DataFrame\n",
    "import matplotlib as mpl\n",
    "import matplotlib.pyplot as plt\n",
    "%matplotlib inline\n",
    "\n",
    "vg = pd.read_csv('Video_Games_Sales_as_at_22_Dec_2016.csv')\n"
   ]
  },
  {
   "cell_type": "markdown",
   "metadata": {},
   "source": [
    "E se você quiser fazer uma regressão quadratica?"
   ]
  },
  {
   "cell_type": "code",
   "execution_count": null,
   "metadata": {
    "collapsed": true
   },
   "outputs": [],
   "source": [
    "x = vg[(vg.Critic_Score.notnull()) & vg.NA_Sales.notnull()].Critic_Score\n",
    "\n",
    "#Aqui voce pode escolher transpor ou nao, o importante eh ficar de acordo com seu codigo acima\n",
    "x = np.array([x,x*x])\n",
    "\n",
    "y = vg[(vg.Critic_Score.notnull()) & vg.NA_Sales.notnull()].NA_Sales\n",
    "\n",
    "\n",
    "#b = regressaoLinearMultipla(x,y)\n",
    "\n",
    "resolveLin(b,[8.5,8.5*8.5])"
   ]
  },
  {
   "cell_type": "markdown",
   "metadata": {},
   "source": [
    "E se eu quiser fazer uma regressão múltipla com nota dos criticos e dos usuários para prever as vendas globais?"
   ]
  },
  {
   "cell_type": "code",
   "execution_count": null,
   "metadata": {},
   "outputs": [],
   "source": [
    "x = vg[(vg.Critic_Score.notnull()) & (vg.User_Score.notnull()) &vg.Global_Sales.notnull()].Critic_Score\n",
    "#x2 = vg[(vg.Critic_Score.notnull()) & (vg.User_Score.notnull())& vg.Global_Sales.notnull()].User_Score\n",
    "y = vg[(vg.Critic_Score.notnull()) & (vg.User_Score.notnull()) & vg.Global_Sales.notnull()].Global_Sales\n",
    "\n",
    "b = regressaoLinear(np.array([x]),y)\n",
    "\n",
    "print(b)\n"
   ]
  },
  {
   "cell_type": "markdown",
   "metadata": {},
   "source": [
    "## Qualidade da Regressão ##\n",
    "\n",
    "OK, fizemos alguns modelos, mas como podemos saber a qualidade da regressão? Usando a fórmula do $R^2$:\n",
    "\n",
    "$$\n",
    "R^2 = 1 - \\frac{D(b)}{\\sum y_{i}^2 - \\frac{1}{n}(\\sum y_i)^2}\n",
    "$$\n",
    "\n",
    "Onde $D(b)$ é a distância quadrática dos y previstos pela regressão para os $y$ reais.\n",
    "\n",
    "Implemente a função que computa $R^2$:"
   ]
  },
  {
   "cell_type": "code",
   "execution_count": null,
   "metadata": {
    "collapsed": true
   },
   "outputs": [],
   "source": [
    "def resolveLinVet(b,x):\n",
    "    return vetval\n",
    "      \n",
    "def distanciaquad(b,x,y):\n",
    "    return d\n",
    "    \n",
    "def r2(b,x,y):\n",
    "    return r2"
   ]
  },
  {
   "cell_type": "code",
   "execution_count": null,
   "metadata": {
    "collapsed": true
   },
   "outputs": [],
   "source": [
    "xp = np.array([1.2,2.5,3.,4.1,6.2,7.1,8.8,9.5])\n",
    "yp = np.array([6.8,6.1,9.9,9.7,12.1,17.9,18,21.5])\n",
    "b = regressaoLinear(xp,yp)\n",
    "r2(b,xp,yp)"
   ]
  },
  {
   "cell_type": "markdown",
   "metadata": {},
   "source": [
    "## Diferentes recortes dos dados ##\n",
    "\n",
    "Muitas vezes, temos __informação demais__ para os métodos de regressão encontrarem uma correlação boa. Por isto, é muito comum neste tipo de aplicação, fazer a regressão com subconjuntos dos dados.\n",
    "\n",
    "Por exemplo: Ao se tentar prever as vendas globais, focar em um período de tempo específico ou em apenas uma ou poucas plataformas pode gerar modelos de predição mais precisos.\n",
    "\n",
    "Exemplo:\n",
    "\n",
    "\n",
    "Vamos inicialmente fazer uma predição das vendas globais baseada na nota dos críticos:"
   ]
  },
  {
   "cell_type": "code",
   "execution_count": null,
   "metadata": {},
   "outputs": [],
   "source": [
    "vglimpo=vg[(vg.Critic_Score.notnull()) & (vg.Global_Sales.notnull())]\n",
    "xg = vglimpo.Critic_Score\n",
    "yg = vglimpo.Global_Sales\n",
    "plt.yscale('log')\n",
    "plt.scatter(xg,yg)"
   ]
  },
  {
   "cell_type": "code",
   "execution_count": null,
   "metadata": {},
   "outputs": [],
   "source": [
    "b = regressaoLinear(np.array(xg),yg)\n",
    "\n",
    "r2(b,x,y)"
   ]
  },
  {
   "cell_type": "markdown",
   "metadata": {},
   "source": [
    "Será que dá para melhorar? Vamos tentar focar apenas nos consoles da sétima geração (PS3, Xbox360, Wii):"
   ]
  },
  {
   "cell_type": "code",
   "execution_count": null,
   "metadata": {
    "collapsed": true
   },
   "outputs": [],
   "source": [
    "x = vglimpo[(vglimpo.Platform.isin(['PS3','XBOX360','Wii']))].Critic_Score\n",
    "y = vglimpo[(vglimpo.Platform.isin(['PS3','XBOX360','Wii']))].Global_Sales\n",
    "#plt.yscale('log')\n",
    "plt.scatter(x,y)"
   ]
  },
  {
   "cell_type": "markdown",
   "metadata": {},
   "source": [
    "Faça um teste comparando o nivel da regressao acima com uma regressão contendo todos os jogos de 2000 a 2005"
   ]
  },
  {
   "cell_type": "code",
   "execution_count": null,
   "metadata": {
    "collapsed": true
   },
   "outputs": [],
   "source": []
  },
  {
   "cell_type": "markdown",
   "metadata": {},
   "source": [
    "## Agrupando ##\n",
    "\n",
    "Você pode usar o comando groupby para gerar novas bases de dados modificadas. Por exemplo, você pode tentar prever as vendas totais de plataformas ao invés de jogos individuais. Contudo, para você utilizar os dados agrupados, você deve usar uma função de agregação (sum,count, min,max, mean, etc).\n",
    "\n",
    "### Exemplo ###\n",
    "\n",
    "Criando um agrupamento por plataforma"
   ]
  },
  {
   "cell_type": "code",
   "execution_count": null,
   "metadata": {
    "collapsed": true
   },
   "outputs": [],
   "source": [
    "vgplat = vg.groupby(['Platform'])\n",
    "vgplat.Global_Sales.sum()"
   ]
  },
  {
   "cell_type": "markdown",
   "metadata": {},
   "source": [
    "Fazendo uma regressão para descobrir total de vendas de um console pelo total de jogos lançados para ele:"
   ]
  },
  {
   "cell_type": "code",
   "execution_count": null,
   "metadata": {
    "collapsed": true
   },
   "outputs": [],
   "source": [
    "x = vgplat.Name.count()\n",
    "y = vgplat.Global_Sales.sum()\n",
    "plt.scatter(x,y)"
   ]
  },
  {
   "cell_type": "code",
   "execution_count": null,
   "metadata": {
    "collapsed": true
   },
   "outputs": [],
   "source": [
    "#Total de anos que um console teve jogos\n",
    "\n",
    "anos = vgplat.Year_of_Release.max() - vgplat.Year_of_Release.min()\n",
    "anos.plot(kind='bar')"
   ]
  },
  {
   "cell_type": "markdown",
   "metadata": {},
   "source": [
    "Vocês poderiam usar a informação de ano para ponderar alguma outra informação usada na regressão por exemplo. Contudo, tem algo estranho né? O Nintendo DS está com 35 anos de jogos lançados. Vocês conseguem descobrir o porquê?"
   ]
  },
  {
   "cell_type": "code",
   "execution_count": null,
   "metadata": {},
   "outputs": [],
   "source": []
  },
  {
   "cell_type": "code",
   "execution_count": null,
   "metadata": {
    "collapsed": true
   },
   "outputs": [],
   "source": []
  },
  {
   "cell_type": "code",
   "execution_count": null,
   "metadata": {},
   "outputs": [],
   "source": []
  },
  {
   "cell_type": "code",
   "execution_count": null,
   "metadata": {
    "collapsed": true
   },
   "outputs": [],
   "source": []
  },
  {
   "cell_type": "code",
   "execution_count": null,
   "metadata": {
    "collapsed": true
   },
   "outputs": [],
   "source": []
  }
 ],
 "metadata": {
  "kernelspec": {
   "display_name": "Python 3",
   "language": "python",
   "name": "python3"
  },
  "language_info": {
   "codemirror_mode": {
    "name": "ipython",
    "version": 3
   },
   "file_extension": ".py",
   "mimetype": "text/x-python",
   "name": "python",
   "nbconvert_exporter": "python",
   "pygments_lexer": "ipython3",
   "version": "3.6.4"
  }
 },
 "nbformat": 4,
 "nbformat_minor": 2
}
