{
 "cells": [
  {
   "cell_type": "markdown",
   "metadata": {},
   "source": [
    "# Integração\n",
    "\n",
    "Newton cotes: aproxima a função por um polinômio de newton e calcula a integral.\n",
    "\n",
    "### Trapézio: ###\n",
    "\n",
    "Aproxima a função f(x) por um trapézio (2 pontos)\n",
    "\n",
    "$$ I_1 = \\frac{h}{2}(y_0+y_1)$$\n",
    "\n",
    "### 1/3 de Simpson: ###\n",
    "\n",
    "Aproxima a função f(x) por uma parábola (3 pontos)\n",
    "\n",
    "$$ I_2 = \\frac{h}{3}(y_0+4y_1+y_2) $$\n",
    "\n",
    "\n",
    "### 3/8 de Simpson: ###\n",
    "\n",
    "Aproxima a função f(x) por uma hipérbole (4 pontos)\n",
    "\n",
    "$$ I_3 = \\frac{3h}{8}(y_0+3y_1+3y_2+y_3) $$\n",
    "\n",
    "Onde h é a distância entre dois pontos (equidistantes)"
   ]
  },
  {
   "cell_type": "code",
   "execution_count": 26,
   "metadata": {},
   "outputs": [],
   "source": [
    "import matplotlib.pyplot as plt\n",
    "%matplotlib inline\n",
    "import numpy as np\n",
    "\n",
    "def trapezio(y,h):\n",
    "    i=(h/2)*sum(y)\n",
    "    return i\n",
    "\n",
    "def umtercosimpson(y,h):\n",
    "    i=(h/3)*(y[0]+4*y[1]+y[2])\n",
    "    return i\n",
    "\n",
    "def tresoitavos(y,h):\n",
    "    i=(3/8)*h*(y[0]+3*y[1]+3*y[2]+y[3])\n",
    "    return i"
   ]
  },
  {
   "cell_type": "markdown",
   "metadata": {},
   "source": [
    "## Vamos testar?\n",
    "\n",
    "$$ \\int_0^1 e^{-x} dx$$\n",
    "\n",
    "$$ \\int_0^1 x^{2} dx$$\n",
    "\n",
    "$$ \\int_0^1 x^{3} dx$$\n",
    "\n",
    "$$ \\int_0^1 xe^{-x^2} dx$$\n",
    "\n",
    "$$ \\int_0^1 \\frac{1}{x^{2}+1} dx$$\n",
    "\n",
    "\n",
    "Faça os três métodos acima, e compare o erro absoluto e relativo com as integrais exatas (use o wolphram alpha)"
   ]
  },
  {
   "cell_type": "code",
   "execution_count": 29,
   "metadata": {},
   "outputs": [
    {
     "name": "stdout",
     "output_type": "stream",
     "text": [
      "0.6839397205857212\n",
      "0.6323336800036626\n",
      "0.6322155912488232\n",
      "None\n"
     ]
    }
   ],
   "source": [
    "f = lambda x:np.exp(-x)\n",
    "\n",
    "def integra(f,a,b):\n",
    "    x = np.array([0,1])\n",
    "    y = f(x)\n",
    "    \n",
    "    print(trapezio(y,b))\n",
    "\n",
    "    x2=np.linspace(0,1,3)\n",
    "    y2=f(x2)\n",
    "    \n",
    "    print(umtercosimpson(y2,(b-a)/2))\n",
    "\n",
    "    x3=np.linspace(0,1,4)\n",
    "    y3=f(x3)\n",
    "    \n",
    "    print(tresoitavos(y3,(b-a)/3))\n",
    "    \n",
    "print(integra(f,0,1))\n"
   ]
  },
  {
   "cell_type": "markdown",
   "metadata": {},
   "source": [
    "# Integração Composta\n",
    "\n",
    "### Trapézio Composto:\n",
    "\n",
    "$$ I_1 = \\frac{h}{2}(y_0+2y_1+2y_2+...+2y_{n-1}+y_n)$$\n",
    "\n",
    "Funciona para qualquer numero de pontos $>=2$.\n",
    "\n",
    "### 1/3 de Simpson\n",
    "\n",
    "$$ I_2 = \\frac{h}{3}(y_0+4y_1+2y_2+4y_3+2y_4+...+2y_{n-2}+4y_{n-1}+y_n) $$\n",
    "\n",
    "Funciona para $3+2n$ pontos, com $n>=0$\n",
    "\n",
    "### 3/8 de Simpson\n",
    "\n",
    "$$ I_3 = \\frac{3h}{8}(y_0+3y_1+3y_2+2y_3+...+2y_{n-3}+3y_{n-2}+3y_{n-1}+y_0)$$\n",
    "\n",
    "Funciona para $4+3n$ pontos, com $n>=0$\n"
   ]
  },
  {
   "cell_type": "code",
   "execution_count": 32,
   "metadata": {},
   "outputs": [],
   "source": [
    "def trapezioc(y,h):\n",
    "    for i in range(len(y)):\n",
    "        if not(i==0 or i==len(y-1)):\n",
    "            y[i]*=2\n",
    "            \n",
    "    return (h/2)*sum(y)\n",
    "\n",
    "def umtercosimpsonc(y,h):\n",
    "    for i in range(len(y)):\n",
    "        if not(i==0 or i==len(y-1)):\n",
    "            if i%2 != 0:\n",
    "                y[i]*=4\n",
    "            else:\n",
    "                y[i]*=2\n",
    "    \n",
    "    return (h/3)*sum(y)\n",
    "\n",
    "def tresoitavosc(y,h):\n",
    "    ind=0\n",
    "    for i in range(len(y)):\n",
    "        if not(i==0 or i==len(y-1)):\n",
    "            ind+=1\n",
    "            if not(ind==3):\n",
    "                y[i]*=3\n",
    "            else:\n",
    "                y[i]*=2\n",
    "                ind=0\n",
    "    \n",
    "    return ((3*h)/8)*sum(y)"
   ]
  },
  {
   "cell_type": "markdown",
   "metadata": {},
   "source": [
    "Vamos testar? Use as integrais acima, mas com mais pontos.\n",
    "\n",
    "\n"
   ]
  },
  {
   "cell_type": "code",
   "execution_count": 35,
   "metadata": {},
   "outputs": [
    {
     "name": "stdout",
     "output_type": "stream",
     "text": [
      "0.6339839104214203\n"
     ]
    }
   ],
   "source": [
    "f = lambda x:np.exp(-x)\n",
    "\n",
    "def integraC(f,a,b):\n",
    "    x = np.array([0,1])\n",
    "    y = f(x)\n",
    "    \n",
    "    print(trapezioc(y,b))\n",
    "\n",
    "    x2=np.linspace(0,1,3)\n",
    "    y2=f(x2)\n",
    "    \n",
    "    print(umtercosimpsonc(y2,(b-a)/2))\n",
    "\n",
    "    x3=np.linspace(0,1,4)\n",
    "    y3=f(x3)\n",
    "    \n",
    "    print(tresoitavosc(y3,(b-a)/3))\n",
    "\n",
    "n=100    \n",
    "x=np.linspace(0,1,n)\n",
    "y=f(x)\n",
    "print(trapezioc(y,(x[1]-x[0])))"
   ]
  },
  {
   "cell_type": "markdown",
   "metadata": {},
   "source": [
    "# Derivação #\n",
    "\n",
    "Derivação, como sabemos bem, é uma técnica poderosa para inferir o comportamento de funçÕes e o relacionamento de fórmulas com os dados. Apesar da maior parte das equações ser diferenciável analiticamente, muitas vezes temos funções mais complexas geradas por dados de experimentos e afins que não são trivialmente diferenciáveis.\n",
    "\n",
    "Assim, é importante ter uma abordagem numérica para derivar __qualquer__ função.\n",
    "\n",
    "## Aproximação por diferenças finitas ##\n",
    "\n",
    "O método das diferenças finitas é utilizado quando se quer saber a derivada de _f(x)_ com relação a um valor/intervalo pequeno de _x_.\n",
    "\n",
    "Quando estas diferenças tem tamanho fixo, a diferença $\\Delta x$ é normalmente chamada de _h_, ou tamanho do passo.\n",
    "\n",
    "Ou seja, dada uma função e um intervalo [A,B], deseja-se saber a derivada da função:"
   ]
  },
  {
   "cell_type": "code",
   "execution_count": 36,
   "metadata": {
    "scrolled": true
   },
   "outputs": [
    {
     "data": {
      "text/plain": [
       "Text(0,0.6,'h')"
      ]
     },
     "execution_count": 36,
     "metadata": {},
     "output_type": "execute_result"
    },
    {
     "data": {
      "image/png": "[encoded data removed]",
      "text/plain": [
       "<Figure size 432x288 with 1 Axes>"
      ]
     },
     "metadata": {},
     "output_type": "display_data"
    }
   ],
   "source": [
    "import matplotlib.pyplot as plt\n",
    "import numpy as np\n",
    "%matplotlib inline\n",
    "\n",
    "\n",
    "f = lambda x: x**2-2*x+2\n",
    "x = np.linspace(-1,1,100)\n",
    "y = f(x)\n",
    "\n",
    "xd = np.array([-0.3,0.3])\n",
    "yd =f(xd)\n",
    "\n",
    "plt.xticks(xd,[r'$x_i$', r'$x_{i+1}$'])\n",
    "plt.yticks(yd,[r'$f(x_i)$',r'$f(x_{i+1})$'])\n",
    "plt.xlim(-1.2,1.2)\n",
    "plt.ylim(0,5.2)\n",
    "\n",
    "plt.plot(x,y,linewidth=2)\n",
    "plt.plot(xd,yd,'r-')\n",
    "plt.plot([-1.2,xd[0]],[yd[0],yd[0]],'r--',linewidth=1)\n",
    "plt.plot([-1.2,xd[1]],[yd[1],yd[1]],'r--',linewidth=1)\n",
    "plt.plot([xd[0],xd[0]],[0,yd[0]],'r--',linewidth=1)\n",
    "plt.plot([xd[1],xd[1]],[0,yd[1]],'r--',linewidth=1)\n",
    "plt.plot([xd[0],xd[1]],[0.5,0.5],'b--',linewidth=1.5)\n",
    "plt.annotate('A',xy=(xd[0],yd[0]),xytext=(xd[0],yd[0]+0.1),color=\"black\",fontsize=12)\n",
    "plt.annotate('B',xy=(xd[1],yd[1]),xytext=(xd[1],yd[1]+0.1),color=\"black\",fontsize=12)\n",
    "plt.annotate('h',xy=((xd[0]+xd[1])/2,0.5),xytext=((xd[0]+xd[1])/2,0.6),color=\"black\",fontsize=12)"
   ]
  },
  {
   "cell_type": "markdown",
   "metadata": {},
   "source": [
    "A forma mais simples de derivar é se achar a inclunação da reta AB, que é aproximadamente igual à da tangente da curva no meio do intervalo entre $x_i$ e $x_{i+1}$. Assim, quanto menor o intervalo, mais próximo do real é o valor obtido.\n",
    "\n",
    "A teoria por trás das diferenças definidas vem da expansão da série de Taylor de $f(x)$. A expansão para $f(x_{i+1})$ pode ser descrita como:\n",
    "\n",
    "$$ f(x_{i+1}) = f(x_i)+f'(x_i)h +\\frac{f''(x_i)}{2!}h^2+\\frac{f'''(x_i)}{3!}h^3+...$$\n",
    "\n",
    "Logo:\n",
    "\n",
    "$$ f'(x_{i}) = \\frac{f(x_{i+1})-f(x_i)}{h} - \\frac{f''(x_i)}{2!}h-\\frac{f'''(x_i)}{3!}h^2+...$$\n",
    "\n",
    "Como as segundas derivadas em diante são divididas por fatoriais e seu valor fica cada vez menor, elas podem ser omitidas, oque nos dá:\n",
    "\n",
    "$$ f'(x_{i}) = \\frac{f(x_{i+1})-f(x_i)}{h} + O(h) $$\n",
    "\n",
    "Esta fórmula é conhecida como _diferença dividida progressiva_, pois o segundo ponto é escolhido após $x_i$, ou seja, $h>0$. O(h) representa o erro advindo da truncagem da série de taylor (descartando termos com segundas derivadas em diante). Então na prática, a diferença dividida progressiva é:\n",
    "\n",
    "$$ f'(x_{i}) = \\frac{f(x_{i}+h)-f(x_i)}{h} $$\n",
    "\n",
    "Reaplicando a fórmula em $f'$, pode-se encontrar derivadas segundas, terceiras, etc:\n",
    "\n",
    "$$ f''(x_{i}) = \\frac{f(x_{i}+2h)-2f(x_{i}+h)+f(x_i)}{h^2} $$\n",
    "\n",
    "$$ f'''(x_{i}) = \\frac{f(x+3h)-3f(x_{i}+2h)+3f(x_{i}+h)-f(x_i)}{h^3}$$\n",
    "\n",
    "\n",
    "### Diferenças divididas regressivas ###\n",
    "\n",
    "De forma similar, podemos ter _diferenças divididas regressivas_, ou seja, quando o segundo ponto para gerar a reta tem um x anterior a $x_i$, ou seja, usa-se um $h<0$ ou multiplica-se h por -1:\n",
    "\n",
    "$$ f'(x_{i}) = \\frac{f(x_{i})-f(x_i-h)}{h} + O(h) $$\n",
    "\n",
    "$$ f''(x_{i}) = \\frac{f(x_{i})-2f(x_{i}-h)+f(x_i-2h)}{h^2} $$\n",
    "\n",
    "$$ f'''(x_{i}) = \\frac{f(x)-3f(x_{i}-h)+3f(x_{i}-2h)-f(x_i-3h)}{h^3}$$\n",
    "\n",
    "\n",
    "### Diferenças divididas centrais ###\n",
    "\n",
    "Diferenças progressivas ou regressivas podem ser utilizadas de acordo com o contexto, se há uma preocupação com o futuro ou o passado no resultado. Contudo, muitas vezes a preocupação é simplesmente a derivada em um dado ponto. Desta forma, o ideal seria colocar o ponto desejado __no meio__ do intervalo, ou seja, fazendo uma reta com os x no intervalo $[x-$h/2$,x+h/2]$.\n",
    "\n",
    "Desta forma, podemos calcular as diferenças divididas centrais como:\n",
    "\n",
    "$$ f'(x_{i}) = \\frac{f(x_{i}+h)-f(x_i-h)}{2h} $$\n",
    "\n",
    "De forma similar, podemos gerar as outras derivadas:\n",
    "\n",
    "$$ f''(x_{i}) = \\frac{f(x_{i}+h)-2f(x_{i})+f(x_i-h)}{h^2} $$\n",
    "\n",
    "$$ f'''(x_{i}) = \\frac{f(x+2h)-2f(x_{i}+h)+2f(x_{i}-h)-f(x_i-2h)}{2h^3}$$\n",
    "\n",
    "\n",
    "Complicado né? Vamos ver um exemplo para entender melhor:\n",
    "\n",
    "## Exemplo ##\n",
    "\n",
    "Vamos descobrir a primeira e a segunda derivada do polinomio abaixo no ponto 0.1:\n",
    "\n",
    "$f(x) = 0.1x^5 - 0.2x^3 + 0.1x - 0.2$\n",
    "\n",
    "Qual a solução analítica para a primeira e a segunda derivada?"
   ]
  },
  {
   "cell_type": "code",
   "execution_count": 37,
   "metadata": {},
   "outputs": [
    {
     "name": "stdout",
     "output_type": "stream",
     "text": [
      "f'(0.1): 0.09405000000000001 f''(0.1): -0.118\n"
     ]
    }
   ],
   "source": [
    "f = lambda x: 0.1*x**5 - 0.2*x**3 + 0.1*x - 0.2\n",
    "fd1 = lambda x:0.5*x**4 - 0.6*x**2 + 0.1\n",
    "fd2 = lambda x:2*x**3-1.2*x\n",
    "\n",
    "print(\"f'(0.1):\",fd1(0.1),\"f''(0.1):\",fd2(0.1))"
   ]
  },
  {
   "cell_type": "markdown",
   "metadata": {},
   "source": [
    "Agora vamos tentar aproximar estes valores numericamente utilizando diferenças definidas progressivas usando um h de 0.05:"
   ]
  },
  {
   "cell_type": "code",
   "execution_count": null,
   "metadata": {},
   "outputs": [],
   "source": [
    "def d1prog(f,x,h):\n",
    "    return (f(x+h)-f(x))/h\n",
    "\n",
    "d1prog(f,0.1,0.05)"
   ]
  },
  {
   "cell_type": "markdown",
   "metadata": {},
   "source": [
    "Implemente as diferenças regressivas e centrais para a primeira e segunda derivada:"
   ]
  },
  {
   "cell_type": "code",
   "execution_count": null,
   "metadata": {
    "collapsed": true
   },
   "outputs": [],
   "source": [
    "def d2prog(f,x,h):\n",
    "    return \n",
    "\n",
    "def d1reg(f,x,h):\n",
    "    return \n",
    "\n",
    "def d2reg(f,x,h):\n",
    "    return \n",
    "\n",
    "def d1cen(f,x,h):\n",
    "    return \n",
    "\n",
    "def d2cen(f,x,h):\n",
    "    return "
   ]
  },
  {
   "cell_type": "markdown",
   "metadata": {},
   "source": [
    "Agora verifique qual dos três tem o menor erro para a primeira e segunda derivada:"
   ]
  },
  {
   "cell_type": "code",
   "execution_count": null,
   "metadata": {},
   "outputs": [],
   "source": [
    "print(\"Derivada analitica:\",fd1(0.1),'Progressiva:',d1prog(f,0.1,0.05),\"Regressiva:\",d1reg(f,0.1,0.05),\"Central:\",d1cen(f,0.1,0.05))\n",
    "print(\"Derivada segunda analitica:\",fd2(0.1),'Progressiva:',d2prog(f,0.1,0.05),\"Regressiva:\",d2reg(f,0.1,0.05),\"Central:\",d2cen(f,0.1,0.05))\n",
    "\n",
    "\n",
    "xis = np.linspace(0,0.5,100)\n",
    "plt.plot(xis,f(xis))\n",
    "plt.plot(xis,fd1(xis),'r--')\n",
    "plt.plot(xis,d1prog(f,xis,0.05),'g--')\n",
    "plt.plot(xis,d1cen(f,xis,0.05),'y--')"
   ]
  },
  {
   "cell_type": "markdown",
   "metadata": {},
   "source": [
    "### Exercício ###\n",
    "\n",
    "Ache o valor da primeira e segunda derivada da função $f(x)=\\frac{2}{x^3+5}$ no ponto 1, com h=0.1, usando os três métodos e diga qual obteve o menor erro."
   ]
  },
  {
   "cell_type": "code",
   "execution_count": null,
   "metadata": {},
   "outputs": [],
   "source": []
  },
  {
   "cell_type": "markdown",
   "metadata": {},
   "source": [
    "Mas e se eu não possuo a função $f$, como proceder? Ora, é simples: desde que você tenha pontos igualmente espaçados no eixo x (de preferência em um intervalo pequeno) você pode calcular as diferenças divididas diretamente!\n",
    "\n",
    "### Exemplo/Exercício ###\n",
    "\n",
    "Dada a tabela abaixo de valores de uma função _v_:\n",
    "\n",
    "|valor de $t_i$|0|60|120|180|240|300|\n",
    "|--------|-|-|-|-|-|-|-|-|\n",
    "|$v(t_i)$|0|0.0824|0.2747|0.6502|1.3851|3.229|\n",
    "\n",
    "1. Determine uma aproximação para v'(180) usando: i. Diferenças Progressivas ii. Regressivas iii. Centrais\n",
    "2. Como poderia proceder para determinar uma aproximação para v'(300)?"
   ]
  },
  {
   "cell_type": "code",
   "execution_count": null,
   "metadata": {},
   "outputs": [],
   "source": []
  }
 ],
 "metadata": {
  "kernelspec": {
   "display_name": "Python 3",
   "language": "python",
   "name": "python3"
  },
  "language_info": {
   "codemirror_mode": {
    "name": "ipython",
    "version": 3
   },
   "file_extension": ".py",
   "mimetype": "text/x-python",
   "name": "python",
   "nbconvert_exporter": "python",
   "pygments_lexer": "ipython3",
   "version": "3.6.4"
  }
 },
 "nbformat": 4,
 "nbformat_minor": 2
}
