{
 "cells": [
  {
   "cell_type": "markdown",
   "metadata": {},
   "source": [
    "# Métodos Iterativos #\n",
    "\n",
    "### Critérios de parada ###\n",
    "\n",
    "Antes de implementarmos os métodos iterativos, temos que implementar um método para o critério de parada. No nosso caso, usaremos a _norma infinita_. A norma infinita é dada por:\n",
    "\n",
    "$$\\lVert v \\rVert_{\\infty} = \\max_{1\\leq i\\leq n}|v_i|$$ \n",
    "\n",
    "E a distância entre duas soluções iteradas $x^k$ e $x^{k-1}$ pode ser dada por:\n",
    "\n",
    "$$ \\frac{\\lVert x^k - x^{k-1} \\rVert_{\\infty}}{\\lVert x^k\\rVert_{\\infty}} = \\frac{\\max\\limits_{1\\leq i\\leq n}|x_i^{k} - x_i^{k-1}|}{\\max\\limits_{1\\leq i\\leq n}|x_i^k|} \\leq \\epsilon$$\n",
    "\n",
    "Faça uma função para retornar a distância usando a norma infinita de dois vetores:"
   ]
  },
  {
   "cell_type": "code",
   "execution_count": 8,
   "metadata": {},
   "outputs": [],
   "source": [
    "import numpy as np"
   ]
  },
  {
   "cell_type": "code",
   "execution_count": 9,
   "metadata": {},
   "outputs": [],
   "source": [
    "from numpy.linalg import inv"
   ]
  },
  {
   "cell_type": "code",
   "execution_count": 10,
   "metadata": {},
   "outputs": [],
   "source": [
    "#v1=k\n",
    "#v2=k+1\n",
    "def normaInfinita(v1,v2):\n",
    "    norma=np.abs(v2-v1).max()/np.abs(v2).max()\n",
    "    return norma"
   ]
  },
  {
   "cell_type": "markdown",
   "metadata": {},
   "source": [
    "## Jacobi ##\n",
    "\n",
    "Para resolver o método de Jacobi, se deve decompor a matriz $A$ em três matrizes compostas dos seus elementos, $D$ (Diagonal), $E$ (triangular inferior) e $F$ (triangular superior).\n",
    "\n",
    "De posse destes elementos, deve-se utilizar esta fórmula de iteração:\n",
    "\n",
    "$$ x^{k+1}=-D^{-1}(E+F)x+D^{-1}b $$\n",
    "\n",
    "Lembrando que para D ter inversa, nenhum elemento da diagonal principal de A pode ser nulo.\n",
    "\n",
    "Desta forma, eu posso utilizar a forma matricial acima para computar as respostas. Implemente o método de Jacobi matricial abaixo:"
   ]
  },
  {
   "cell_type": "code",
   "execution_count": 11,
   "metadata": {},
   "outputs": [],
   "source": [
    "#Não pode ter elemento nulo na diagonal principal\n",
    "\n",
    "def jacobim(A,b,niter=1000,minimo = 0.000001):\n",
    "    D=np.zeros((len(A),len(A)))\n",
    "    E=np.zeros((len(A),len(A)))\n",
    "    F=np.zeros((len(A),len(A)))\n",
    "    x=np.zeros(len(b))\n",
    "    ant=x.copy()\n",
    "    k=1\n",
    "    for i in range(len(A)):\n",
    "        for j in range(len(A)):\n",
    "            if i == j:\n",
    "                D[i][j]=1/A[i][j]\n",
    "            elif i < j:\n",
    "                F[i][j]=A[i][j]\n",
    "            else:\n",
    "                E[i][j]=A[i][j]\n",
    "\n",
    "    J=(-D).dot(E+F)\n",
    "    while(k<niter):\n",
    "        x=J.dot(ant)+D.dot(b)\n",
    "        if(normaInfinita(ant,x)>minimo):\n",
    "            ant=x.copy()\n",
    "        else:\n",
    "            break\n",
    "        k+=1\n",
    "\n",
    "    return x"
   ]
  },
  {
   "cell_type": "code",
   "execution_count": 12,
   "metadata": {},
   "outputs": [
    {
     "name": "stdout",
     "output_type": "stream",
     "text": [
      "[[10.  3. -2.]\n",
      " [ 2.  8. -1.]\n",
      " [ 1.  1.  5.]]\n",
      "[57. 20. -4.]\n"
     ]
    },
    {
     "ename": "NameError",
     "evalue": "name 'x' is not defined",
     "output_type": "error",
     "traceback": [
      "\u001b[0;31m---------------------------------------------------------------------------\u001b[0m",
      "\u001b[0;31mNameError\u001b[0m                                 Traceback (most recent call last)",
      "\u001b[0;32m<ipython-input-12-6aa9d116ebfd>\u001b[0m in \u001b[0;36m<module>\u001b[0;34m()\u001b[0m\n\u001b[1;32m      3\u001b[0m \u001b[0mprint\u001b[0m\u001b[0;34m(\u001b[0m\u001b[0mA\u001b[0m\u001b[0;34m)\u001b[0m\u001b[0;34m\u001b[0m\u001b[0m\n\u001b[1;32m      4\u001b[0m \u001b[0mprint\u001b[0m\u001b[0;34m(\u001b[0m\u001b[0mb\u001b[0m\u001b[0;34m)\u001b[0m\u001b[0;34m\u001b[0m\u001b[0m\n\u001b[0;32m----> 5\u001b[0;31m \u001b[0mprint\u001b[0m\u001b[0;34m(\u001b[0m\u001b[0mpodeJacobi\u001b[0m\u001b[0;34m(\u001b[0m\u001b[0mA\u001b[0m\u001b[0;34m)\u001b[0m\u001b[0;34m)\u001b[0m\u001b[0;34m\u001b[0m\u001b[0m\n\u001b[0m\u001b[1;32m      6\u001b[0m \u001b[0mprint\u001b[0m\u001b[0;34m(\u001b[0m\u001b[0mjacobim\u001b[0m\u001b[0;34m(\u001b[0m\u001b[0mA\u001b[0m\u001b[0;34m,\u001b[0m\u001b[0mb\u001b[0m\u001b[0;34m,\u001b[0m\u001b[0;36m1000\u001b[0m\u001b[0;34m,\u001b[0m\u001b[0;36m0.000001\u001b[0m\u001b[0;34m)\u001b[0m\u001b[0;34m)\u001b[0m\u001b[0;34m\u001b[0m\u001b[0m\n\u001b[1;32m      7\u001b[0m \u001b[0;34m\u001b[0m\u001b[0m\n",
      "\u001b[0;32m<ipython-input-7-0b773e854533>\u001b[0m in \u001b[0;36mpodeJacobi\u001b[0;34m(A)\u001b[0m\n\u001b[1;32m      2\u001b[0m     \u001b[0mpode\u001b[0m\u001b[0;34m=\u001b[0m\u001b[0;32mTrue\u001b[0m\u001b[0;34m\u001b[0m\u001b[0m\n\u001b[1;32m      3\u001b[0m     \u001b[0;32mfor\u001b[0m \u001b[0mi\u001b[0m \u001b[0;32min\u001b[0m \u001b[0mrange\u001b[0m\u001b[0;34m(\u001b[0m\u001b[0mlen\u001b[0m\u001b[0;34m(\u001b[0m\u001b[0mA\u001b[0m\u001b[0;34m)\u001b[0m\u001b[0;34m)\u001b[0m\u001b[0;34m:\u001b[0m\u001b[0;34m\u001b[0m\u001b[0m\n\u001b[0;32m----> 4\u001b[0;31m         \u001b[0;32mif\u001b[0m \u001b[0mabs\u001b[0m\u001b[0;34m(\u001b[0m\u001b[0mA\u001b[0m\u001b[0;34m[\u001b[0m\u001b[0mi\u001b[0m\u001b[0;34m]\u001b[0m\u001b[0;34m[\u001b[0m\u001b[0mi\u001b[0m\u001b[0;34m]\u001b[0m\u001b[0;34m)\u001b[0m \u001b[0;34m>\u001b[0m \u001b[0msum\u001b[0m\u001b[0;34m(\u001b[0m\u001b[0;34m[\u001b[0m\u001b[0mx\u001b[0m \u001b[0;32mfor\u001b[0m \u001b[0mj\u001b[0m \u001b[0;32min\u001b[0m \u001b[0mrange\u001b[0m\u001b[0;34m(\u001b[0m\u001b[0mlen\u001b[0m\u001b[0;34m(\u001b[0m\u001b[0mA\u001b[0m\u001b[0;34m)\u001b[0m\u001b[0;34m)\u001b[0m \u001b[0;32mif\u001b[0m \u001b[0mi\u001b[0m \u001b[0;34m!=\u001b[0m \u001b[0mj\u001b[0m\u001b[0;34m]\u001b[0m\u001b[0;34m)\u001b[0m\u001b[0;34m:\u001b[0m\u001b[0;34m\u001b[0m\u001b[0m\n\u001b[0m\u001b[1;32m      5\u001b[0m             \u001b[0mpode\u001b[0m\u001b[0;34m=\u001b[0m\u001b[0;32mFalse\u001b[0m\u001b[0;34m\u001b[0m\u001b[0m\n\u001b[1;32m      6\u001b[0m     \u001b[0;32mif\u001b[0m \u001b[0mpode\u001b[0m \u001b[0;34m==\u001b[0m \u001b[0;32mFalse\u001b[0m\u001b[0;34m:\u001b[0m\u001b[0;34m\u001b[0m\u001b[0m\n",
      "\u001b[0;32m<ipython-input-7-0b773e854533>\u001b[0m in \u001b[0;36m<listcomp>\u001b[0;34m(.0)\u001b[0m\n\u001b[1;32m      2\u001b[0m     \u001b[0mpode\u001b[0m\u001b[0;34m=\u001b[0m\u001b[0;32mTrue\u001b[0m\u001b[0;34m\u001b[0m\u001b[0m\n\u001b[1;32m      3\u001b[0m     \u001b[0;32mfor\u001b[0m \u001b[0mi\u001b[0m \u001b[0;32min\u001b[0m \u001b[0mrange\u001b[0m\u001b[0;34m(\u001b[0m\u001b[0mlen\u001b[0m\u001b[0;34m(\u001b[0m\u001b[0mA\u001b[0m\u001b[0;34m)\u001b[0m\u001b[0;34m)\u001b[0m\u001b[0;34m:\u001b[0m\u001b[0;34m\u001b[0m\u001b[0m\n\u001b[0;32m----> 4\u001b[0;31m         \u001b[0;32mif\u001b[0m \u001b[0mabs\u001b[0m\u001b[0;34m(\u001b[0m\u001b[0mA\u001b[0m\u001b[0;34m[\u001b[0m\u001b[0mi\u001b[0m\u001b[0;34m]\u001b[0m\u001b[0;34m[\u001b[0m\u001b[0mi\u001b[0m\u001b[0;34m]\u001b[0m\u001b[0;34m)\u001b[0m \u001b[0;34m>\u001b[0m \u001b[0msum\u001b[0m\u001b[0;34m(\u001b[0m\u001b[0;34m[\u001b[0m\u001b[0mx\u001b[0m \u001b[0;32mfor\u001b[0m \u001b[0mj\u001b[0m \u001b[0;32min\u001b[0m \u001b[0mrange\u001b[0m\u001b[0;34m(\u001b[0m\u001b[0mlen\u001b[0m\u001b[0;34m(\u001b[0m\u001b[0mA\u001b[0m\u001b[0;34m)\u001b[0m\u001b[0;34m)\u001b[0m \u001b[0;32mif\u001b[0m \u001b[0mi\u001b[0m \u001b[0;34m!=\u001b[0m \u001b[0mj\u001b[0m\u001b[0;34m]\u001b[0m\u001b[0;34m)\u001b[0m\u001b[0;34m:\u001b[0m\u001b[0;34m\u001b[0m\u001b[0m\n\u001b[0m\u001b[1;32m      5\u001b[0m             \u001b[0mpode\u001b[0m\u001b[0;34m=\u001b[0m\u001b[0;32mFalse\u001b[0m\u001b[0;34m\u001b[0m\u001b[0m\n\u001b[1;32m      6\u001b[0m     \u001b[0;32mif\u001b[0m \u001b[0mpode\u001b[0m \u001b[0;34m==\u001b[0m \u001b[0;32mFalse\u001b[0m\u001b[0;34m:\u001b[0m\u001b[0;34m\u001b[0m\u001b[0m\n",
      "\u001b[0;31mNameError\u001b[0m: name 'x' is not defined"
     ]
    }
   ],
   "source": [
    "A=np.array(([10,3,-2],[2,8,-1],[1,1,5]),dtype=\"float\")\n",
    "b=np.array(([57,20,-4]),dtype=\"float\")\n",
    "print(A)\n",
    "print(b)\n",
    "print(podeJacobi(A))\n",
    "print(jacobim(A,b,1000,0.000001))\n",
    "\n"
   ]
  },
  {
   "cell_type": "markdown",
   "metadata": {},
   "source": [
    "\n",
    "\n",
    "\n",
    "\n",
    "\n",
    "\n",
    "Outra forma de implementar Jacobi é através da fórmula escalar:\n",
    "\n",
    "$$x_i^{k+1}=\\frac{1}{a_{ii}} - \\left( \\sum\\limits_{\\substack{j=1 \\\\ i\\neq j}}^{n}{a_{ij}x_j^k+b_i} \\right)$$\n",
    "\n",
    "Implemente a forma escalar do jacobi:"
   ]
  },
  {
   "cell_type": "code",
   "execution_count": 15,
   "metadata": {},
   "outputs": [],
   "source": [
    "def jacobie(A,b,niter=1000,minimo = 0.000001):\n",
    "    x=np.zeros(len(b))\n",
    "    ant=np.zeros(len(b))\n",
    "    k=1\n",
    "    while(k<niter):\n",
    "        for i in range(len(A)):\n",
    "            som=0\n",
    "            for j in range(len(A)):\n",
    "                if i != j:\n",
    "                    som-=A[i][j]*ant[j]\n",
    "            x[i]=(1/A[i][i])*(som+b[i])\n",
    "            \n",
    "        if(normaInfinita(ant,x)>minimo):\n",
    "            ant=x.copy()\n",
    "        else:\n",
    "            break\n",
    "        k+=1\n",
    "\n",
    "    return x"
   ]
  },
  {
   "cell_type": "code",
   "execution_count": 16,
   "metadata": {},
   "outputs": [
    {
     "name": "stdout",
     "output_type": "stream",
     "text": [
      "[[10.  3. -2.]\n",
      " [ 2.  8. -1.]\n",
      " [ 1.  1.  5.]]\n",
      "[57. 20. -4.]\n",
      "False\n",
      "[ 4.99999964  1.00000022 -1.99999963]\n",
      "[3.0, -2.0]\n",
      "[2.0, -1.0]\n",
      "[1.0, 1.0]\n"
     ]
    }
   ],
   "source": [
    "print(A)\n",
    "print(b)\n",
    "print(podeJacobi(A))\n",
    "print(jacobie(A,b,1000,0.000001))\n",
    "for i in range(len(A)):\n",
    "    y=[A[i][j] for j in range(len(A)) if i != j]\n",
    "    print(y)\n"
   ]
  },
  {
   "cell_type": "markdown",
   "metadata": {},
   "source": [
    "Para o método de Jacobi (e o Gauss-Seidel) convergirem para um resultado correto, elas tem que ter condições de convergência:\n",
    "\n",
    "- Condição suficiente: Elementos da diagonal principal estritamente dominantes.\n",
    "\n",
    "$$ |a_{ii}|> \\sum\\limits_{\\substack{j=1 \\\\ j\\neq i}}^{n}{|a_{ij}|,i=1,2,...,n}$$\n",
    "\n",
    "Esta condição se verdadeira garante a convergência. Contudo, mesmo se ela for falsa o sistema ainda pode convergir.\n",
    "\n",
    "- Condição necessária: $\\rho(M)<1$, sendo $\\rho(M)$ o raio espectral, o maior autovalor em módulo.\n",
    "\n",
    "Faça uma função que verifique se um sistema com uma matriz de coeficientes A pode ser solucionado via jacobi, testando primeiro a condição suficiente e, em caso negativo, testando a condição necessária:"
   ]
  },
  {
   "cell_type": "code",
   "execution_count": 13,
   "metadata": {},
   "outputs": [],
   "source": [
    "def podeJacobi(A):\n",
    "    pode=True\n",
    "    for i in range(len(A)):\n",
    "        if abs(A[i][i]) > sum([A[i][j] for j in range(len(A)) if i != j]):\n",
    "            pode=False\n",
    "    if pode == False:\n",
    "        (auto,_) = np.linalg.eig(A)\n",
    "        if max(abs(auto))<1:\n",
    "            pode=True\n",
    "    \n",
    "    return pode"
   ]
  },
  {
   "cell_type": "markdown",
   "metadata": {},
   "source": [
    "## Gauss-Seidel ##\n",
    "\n",
    "Função de iteração:\n",
    "\n",
    "$$ x^{k+1}=D^{-1}(-Ex^{k+1}-Fx^{k}+b)$$\n",
    "\n",
    "Lembrando que multiplicar por $D^{-1}$ é o mesmo que dividir cada linha pelo elemento da diagonal principal desta linha em A\n",
    "\n",
    "A forma mais simples de fazer o Gauss Seidel matricialmente é linha a linha (calculando a formula acima pra cada linha da solução X)\n",
    "\n",
    "Implemente Gauss-Seidel na forma Matricial e na forma escalar (acessando os elementos individualmente das matrizes)"
   ]
  },
  {
   "cell_type": "code",
   "execution_count": 12,
   "metadata": {},
   "outputs": [],
   "source": [
    "def gaussM(A,b,niter=1000,minimo = 0.000001):\n",
    "    D=np.zeros((len(A),len(A)))\n",
    "    E=np.zeros((len(A),len(A)))\n",
    "    F=np.zeros((len(A),len(A))) \n",
    "    x=np.zeros(len(b))\n",
    "    ant=x.copy()\n",
    "    k=1\n",
    "    for i in range(len(A)):\n",
    "        for j in range(len(A)):\n",
    "            if i == j:\n",
    "                D[i][j]=1/A[i][j]\n",
    "            elif i < j:\n",
    "                F[i][j]=A[i][j]\n",
    "            else:\n",
    "                E[i][j]=A[i][j]\n",
    "    while(k<niter):\n",
    "        x=D.dot(-(E.dot(x))-(F.dot(ant))+b)\n",
    "        if(normaInfinita(ant,x)>minimo):\n",
    "            ant=x.copy()\n",
    "        else:\n",
    "            break\n",
    "        k+=1\n",
    "    return x\n",
    "\n",
    "def gaussE(A,b,niter=1000,minimo = 0.000001):\n",
    "    x=np.zeros(len(b))\n",
    "    ant=np.zeros(len(b))\n",
    "    h=0\n",
    "    k=1\n",
    "    for z in range(len(A)):\n",
    "        x[z]=b[z]/A[z,z]\n",
    "        \n",
    "    while(k<niter):\n",
    "        for i in range(len(A)):\n",
    "            som=0\n",
    "            for j in range(len(A)):  \n",
    "                if i != j:\n",
    "                    if i == 0:\n",
    "                        som-=A[i][j]*ant[j]\n",
    "                    elif i == 1:\n",
    "                        if h == 0:\n",
    "                            som-=A[i][j]*x[j]\n",
    "                            h+=1\n",
    "                        else:\n",
    "                            som-=A[i][j]*ant[j]\n",
    "                    else:\n",
    "                        som-=A[i][j]*x[j]\n",
    "                        \n",
    "            x[i]=(1/A[i][i])*(som+b[i])\n",
    "            \n",
    "        if(normaInfinita(ant,x)>minimo):\n",
    "            ant=x.copy()\n",
    "        else:\n",
    "            break\n",
    "        k+=1\n",
    "  \n",
    "    return x"
   ]
  },
  {
   "cell_type": "code",
   "execution_count": 13,
   "metadata": {},
   "outputs": [
    {
     "name": "stdout",
     "output_type": "stream",
     "text": [
      "True\n",
      "[ 4.99999964  1.00000022 -1.99999963]\n",
      "[ 5.00000095  1.00000074 -2.00000034]\n"
     ]
    }
   ],
   "source": [
    "print(podeJacobi(A))\n",
    "print(gaussM(A,b,1000,0.000001))\n",
    "print(gaussE(A,b,1000,0.000001))\n"
   ]
  },
  {
   "cell_type": "markdown",
   "metadata": {},
   "source": [
    "#### Exercicios ####\n",
    "\n",
    "1 - Tente resolver todos os sistemas (de M1 a M5) com Jacobi e Gauss-Seidel, tanto na forma matricial quanto na escalar e, nos casos em que o resultado _divergir_, verifique a condição de convergência dos métodos.\n"
   ]
  },
  {
   "cell_type": "code",
   "execution_count": 14,
   "metadata": {},
   "outputs": [
    {
     "name": "stdout",
     "output_type": "stream",
     "text": [
      "Jacobi M M1\n",
      " [            -inf             -inf             -inf -9.21749331e+307]\n",
      "Jacobi M M2\n",
      " [             inf             -inf             -inf -1.14211013e+308]\n",
      "Jacobi M M3\n",
      " [-1.00000058e+00  3.45632528e-07  1.99999962e+00]\n",
      "Jacobi M M4\n",
      " [-3.43950664e+286  4.43336511e+286 -1.19755189e+286 -1.30579095e+286]\n",
      "Jacobi M M5\n",
      " [-8.73758712e+225  2.93012976e+226 -4.00170248e+225 -8.57371557e+225]\n",
      "Jacobi E M1\n",
      " [-1.11033912e+308             -inf -2.55942517e+307  1.60953057e+306]\n",
      "Jacobi E M2\n",
      " [ inf -inf -inf -inf]\n",
      "Jacobi E M3\n",
      " [-1.00000058e+00  3.45632528e-07  1.99999962e+00]\n",
      "Jacobi E M4\n",
      " [-3.43950664e+286  4.43336511e+286 -1.19755189e+286 -1.30579095e+286]\n",
      "Jacobi E M5\n",
      " [-8.73758712e+225  2.93012976e+226 -4.00170248e+225 -8.57371557e+225] \n",
      "\n",
      "Verificando a condição do M1 False\n",
      "Verificando a condição do M2 False\n",
      "Verificando a condição do M3 True\n",
      "Verificando a condição do M4 False\n",
      "Verificando a condição do M5 False\n"
     ]
    },
    {
     "name": "stderr",
     "output_type": "stream",
     "text": [
      "/srv/conda/lib/python3.6/site-packages/ipykernel_launcher.py:4: RuntimeWarning: invalid value encountered in double_scalars\n",
      "  after removing the cwd from sys.path.\n",
      "/srv/conda/lib/python3.6/site-packages/ipykernel_launcher.py:10: RuntimeWarning: overflow encountered in double_scalars\n",
      "  # Remove the CWD from sys.path while we load stuff.\n"
     ]
    }
   ],
   "source": [
    "M1 = np.array([[1,-3,5,6], [-8,4,-1,0],[3,2,-2,7],[1,2,5,-4]],dtype='float')\n",
    "b1 = np.array([17,29,-11,7],dtype='float')\n",
    "\n",
    "M2 = np.array([[-2,3,1,5],[5,1,-1,0],[1,6,3,-1],[4,5,2,8]],dtype='float')\n",
    "b2 = np.array([2,-1,0,6],dtype='float')\n",
    "\n",
    "M3 = np.array([[9,-6,3],[-6,29,-7],[3,-7,18]],dtype='float')\n",
    "b3 = np.array([-3,-8,33],dtype='float')\n",
    "\n",
    "M4 = np.array([[4,-2,4,10],[-2,2,-1,-7],[4,-1,14,11],[10,-7,11,31]],dtype='float')\n",
    "b4 = np.array([2,2,-1,-2],dtype='float')\n",
    "\n",
    "M5 = np.array([[16,-4,4,12],[-4,2,-1,-7],[4,-1,26,13],[12,-7,13,25]],dtype='float') \n",
    "b5 = np.array([2,2,-1,-2],dtype='float')\n",
    "\n",
    "print(\"Jacobi M M1\\n\",jacobim(M1,b1))\n",
    "print(\"Jacobi M M2\\n\",jacobim(M2,b2))\n",
    "print(\"Jacobi M M3\\n\",jacobim(M3,b3))\n",
    "print(\"Jacobi M M4\\n\",jacobim(M4,b4))\n",
    "print(\"Jacobi M M5\\n\",jacobim(M5,b5))\n",
    "\n",
    "print(\"Jacobi E M1\\n\",jacobie(M1,b1))\n",
    "print(\"Jacobi E M2\\n\",jacobie(M2,b2))\n",
    "print(\"Jacobi E M3\\n\",jacobie(M3,b3))\n",
    "print(\"Jacobi E M4\\n\",jacobie(M4,b4))\n",
    "print(\"Jacobi E M5\\n\",jacobie(M5,b5),\"\\n\")\n",
    "\n",
    "print(\"Verificando a condição do M1\",podeJacobi(M1))\n",
    "print(\"Verificando a condição do M2\",podeJacobi(M2))\n",
    "print(\"Verificando a condição do M3\",podeJacobi(M3))\n",
    "print(\"Verificando a condição do M4\",podeJacobi(M4))\n",
    "print(\"Verificando a condição do M5\",podeJacobi(M5))\n"
   ]
  },
  {
   "cell_type": "markdown",
   "metadata": {},
   "source": [
    "2 - Use todos os métodos (Gauss, LU com pivotação, Choleski, Jacobi e Gauss-Seidel) e marquem o tempo com `%timeit -n1` para o seguinte sistema:"
   ]
  },
  {
   "cell_type": "code",
   "execution_count": 15,
   "metadata": {},
   "outputs": [
    {
     "name": "stdout",
     "output_type": "stream",
     "text": [
      "[[15.  4.  3. ... 11. 17.  8.]\n",
      " [ 6.  4. 15. ...  9. 17. 13.]\n",
      " [13. 18. 19. ... 12. 18. 16.]\n",
      " ...\n",
      " [ 8.  7. 19. ...  8. 17. 11.]\n",
      " [11.  6. 10. ...  1. 12.  6.]\n",
      " [10.  1. 15. ...  1.  7. 18.]]\n"
     ]
    }
   ],
   "source": [
    "MF = np.random.randint(1,20,(100,100))\n",
    "bF = np.random.randint(-1000,1000,100)\n",
    "MF = MF + 0.0\n",
    "bF = bF + 0.0\n",
    "print(MF)"
   ]
  },
  {
   "cell_type": "code",
   "execution_count": 16,
   "metadata": {},
   "outputs": [],
   "source": [
    "def resolveTS(A,b): \n",
    "    x = np.zeros(len(A))\n",
    "    for i in range(len(A)-1,-1,-1):\n",
    "        x[i] = (b[i] - (A[i][i+1:]*x[i+1:]).sum())/A[i][i]\n",
    "    return x\n",
    "\n",
    "def resolveTI(A,b): \n",
    "    x = np.zeros(len(b))\n",
    "    for i in range(len(b)):\n",
    "        x[i] = (b[i] - (A[i][:i]*x[:i]).sum())/A[i][i]\n",
    "    return x\n",
    "\n",
    "def eliminacaoGaussianaSimples(A,b):\n",
    "    Au = np.zeros(A.shape)\n",
    "    Ax = np.concatenate((A,b.reshape(len(b),1)),axis=1)\n",
    "    for i in range(len(Ax)-1):\n",
    "        Ax[i+1:] -= (Ax[i+1:,i]/Ax[i][i]).reshape((len(Au[i+1:]),1))*Ax[i]\n",
    "    return resolveTS(Ax[:,:len(b)],Ax[:,len(b)])\n",
    "\n",
    "def LUpivpar(A):\n",
    "    bf = A.shape[0]\n",
    "    L = np.zeros(A.shape)\n",
    "    U = A.copy()\n",
    "    P = np.identity(bf)\n",
    "    for i in range(bf):\n",
    "        ch = np.argmax(np.abs(U[i:,i])) + i\n",
    "        U[[i,ch]] = U[[ch,i]]\n",
    "        L[[i,ch]] = L[[ch,i]]\n",
    "        P[[i,ch]] = P[[ch,i]]\n",
    "        L[i][i]=1\n",
    "        for j in range(i+1,bf):\n",
    "            ax = U[j][i]/U[i][i]\n",
    "            L[j][i] = ax\n",
    "            U[j] -= U[i]*ax\n",
    "    return L,U,P\n",
    "\n",
    "def resolveLUpar(L,U,P,b):\n",
    "    y = resolveTI(L,np.dot(P,b))\n",
    "    return resolveTS(U,y)\n",
    "\n",
    "def LUpar(A,b):\n",
    "    L,U,P = LUparcial(A)\n",
    "    return resolveLUpar(L,U,P,b)\n",
    "\n",
    "def geraCholesky(A):\n",
    "    L = np.zeros((len(A),len(A)))\n",
    "    for i in range(len(A)):\n",
    "        for j in range(i,len(A)):\n",
    "            if i==j:\n",
    "                L[j][i] = np.sqrt(A[j][i] - sum([L[i][k]**2 for k in range(i)]))\n",
    "            else:\n",
    "                L[j][i] = (A[j][i] - sum(L[j][k]*L[i][k] for k in range(i)))/L[i][i]\n",
    "    return L\n",
    "\n",
    "\n",
    "def resolveLU(L,U,b):\n",
    "    y = resolveTI(L,b)\n",
    "    return resolveTS(U,y)\n",
    "\n",
    "def cholesky(A,b):\n",
    "    L = geraCholesky(A)\n",
    "    return resolveLU(L,L.T,b)"
   ]
  },
  {
   "cell_type": "code",
   "execution_count": 17,
   "metadata": {},
   "outputs": [
    {
     "name": "stdout",
     "output_type": "stream",
     "text": [
      "Eliminação Gaussiana:\n",
      "The slowest run took 43.97 times longer than the fastest. This could mean that an intermediate result is being cached.\n",
      "14.5 ms ± 30.2 ms per loop (mean ± std. dev. of 7 runs, 1 loop each)\n",
      "Decomposição LU Parcial:\n",
      "The slowest run took 6.10 times longer than the fastest. This could mean that an intermediate result is being cached.\n",
      "141 ms ± 60.9 ms per loop (mean ± std. dev. of 7 runs, 1 loop each)\n",
      "Cholesky:\n"
     ]
    },
    {
     "name": "stderr",
     "output_type": "stream",
     "text": [
      "/srv/conda/lib/python3.6/site-packages/ipykernel_launcher.py:50: RuntimeWarning: invalid value encountered in sqrt\n"
     ]
    },
    {
     "name": "stdout",
     "output_type": "stream",
     "text": [
      "193 ms ± 75.3 ms per loop (mean ± std. dev. of 7 runs, 1 loop each)\n",
      "Jacobi:\n"
     ]
    },
    {
     "name": "stderr",
     "output_type": "stream",
     "text": [
      "/srv/conda/lib/python3.6/site-packages/ipykernel_launcher.py:10: RuntimeWarning: overflow encountered in double_scalars\n",
      "  # Remove the CWD from sys.path while we load stuff.\n",
      "/srv/conda/lib/python3.6/site-packages/ipykernel_launcher.py:4: RuntimeWarning: invalid value encountered in double_scalars\n",
      "  after removing the cwd from sys.path.\n"
     ]
    },
    {
     "name": "stdout",
     "output_type": "stream",
     "text": [
      "756 ms ± 97.7 ms per loop (mean ± std. dev. of 7 runs, 1 loop each)\n",
      "Gauss-Seidel:\n"
     ]
    },
    {
     "name": "stderr",
     "output_type": "stream",
     "text": [
      "/srv/conda/lib/python3.6/site-packages/ipykernel_launcher.py:47: RuntimeWarning: overflow encountered in double_scalars\n",
      "/srv/conda/lib/python3.6/site-packages/ipykernel_launcher.py:47: RuntimeWarning: invalid value encountered in double_scalars\n"
     ]
    },
    {
     "name": "stdout",
     "output_type": "stream",
     "text": [
      "113 ms ± 3.85 ms per loop (mean ± std. dev. of 7 runs, 1 loop each)\n"
     ]
    }
   ],
   "source": [
    "print(\"Eliminação Gaussiana:\")\n",
    "%timeit -n1 eliminacaoGaussianaSimples(MF,bF)\n",
    "print(\"Decomposição LU Parcial:\")\n",
    "%timeit -n1 LUpar(MF,bF)\n",
    "print(\"Cholesky:\")\n",
    "%timeit -n1 cholesky(MF,bF)\n",
    "print(\"Jacobi:\")\n",
    "%timeit -n1 jacobie(MF,bF)\n",
    "print(\"Gauss-Seidel:\")\n",
    "%timeit -n1 gaussE(MF,bF)\n"
   ]
  },
  {
   "cell_type": "code",
   "execution_count": null,
   "metadata": {},
   "outputs": [],
   "source": []
  },
  {
   "cell_type": "code",
   "execution_count": null,
   "metadata": {},
   "outputs": [],
   "source": []
  }
 ],
 "metadata": {
  "kernelspec": {
   "display_name": "Python 3",
   "language": "python",
   "name": "python3"
  },
  "language_info": {
   "codemirror_mode": {
    "name": "ipython",
    "version": 3
   },
   "file_extension": ".py",
   "mimetype": "text/x-python",
   "name": "python",
   "nbconvert_exporter": "python",
   "pygments_lexer": "ipython3",
   "version": "3.6.4"
  }
 },
 "nbformat": 4,
 "nbformat_minor": 2
}
