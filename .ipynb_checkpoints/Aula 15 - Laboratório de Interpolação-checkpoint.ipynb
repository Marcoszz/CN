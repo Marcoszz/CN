{
 "cells": [
  {
   "cell_type": "markdown",
   "metadata": {},
   "source": [
    "# Laboratório de Interpolação #\n",
    "\n",
    "Neste laboratório, iremos implementar os métodos de Interpolação Polinomial, Lagrange e Newton\n",
    "\n",
    "## Preliminares ##\n",
    "\n",
    "Antes de mais nada, precisamos de uma função que, dados os coeficientes `c` de um polinômio de grau `len(c)-1` e um valor `x`, calcule `y = f(x)`:"
   ]
  },
  {
   "cell_type": "code",
   "execution_count": 2,
   "metadata": {},
   "outputs": [],
   "source": [
    "import numpy as np"
   ]
  },
  {
   "cell_type": "code",
   "execution_count": 3,
   "metadata": {},
   "outputs": [
    {
     "data": {
      "text/plain": [
       "9"
      ]
     },
     "execution_count": 3,
     "metadata": {},
     "output_type": "execute_result"
    }
   ],
   "source": [
    "def resolvePoli(c,x):\n",
    "    y = np.array([c[i]*(x**i) for i in range(len(c))])\n",
    "    return np.sum(y)\n",
    "\n",
    "resolvePoli([2,3,4],1)"
   ]
  },
  {
   "cell_type": "markdown",
   "metadata": {},
   "source": [
    "Precisamos também de uma função que dado um conjunto ordenados de pontos `x`, um valor a ser interpolado `xalvo` e um número `n`, escolha um intervalo com `n` que minimize a distância entre `xalvo` e os pontos do intervalo e retorne `n` valores de `x` e `y` deste intervalo:"
   ]
  },
  {
   "cell_type": "code",
   "execution_count": 2,
   "metadata": {
    "collapsed": true
   },
   "outputs": [],
   "source": [
    "def escolheIntervalo(x,y,xalvo,n):\n",
    "    \n",
    "    \n",
    "    \n",
    "    return vx,vy"
   ]
  },
  {
   "cell_type": "markdown",
   "metadata": {},
   "source": [
    "## Interpolação Polinomial ##\n",
    "\n",
    "Na interpolação polinomial, o objetivo é descobrir os coeficientes de um polinômio de ordem `n-1` que passe pelos `n` pontos utilizados para gerar o polinômio. Ou seja, quanto mais pontos são utilizados, maior o grau do polinômio gerado. Para gerar este polinômio, basta substituir os valores $(x_i,y_i)$ no polinomio genérico e, a partir das equações geradas, montar um sistema linear para descobrir os coeficientes.\n",
    "\n",
    "Por exemplo, com três observações pode-se gerar um polinômio de terceiro grau, utilizando a forma abaixo:\n",
    "\n",
    "$$\n",
    "\\left[ \\begin{array} { c c c } { x _ { 1} ^ { 2} } & { x _ { 1} } & { 1} \\\\ { x _ { 2} ^ { 2} } & { x _ { 2} } & { 1} \\\\ { x _ { 3} ^ { 2} } & { x _ { 3} } & { 1} \\end{array} \\right] \\left[ \\begin{array} { l } { a } \\\\ { b } \\\\ { c } \\end{array} \\right] = \\left[ \\begin{array} { l } { y _ { 1} } \\\\ { y _ { 2} } \\\\ { y _ { 3} } \\end{array} \\right]\n",
    "$$\n",
    "\n",
    "Independente da quantidade de pontos, a matriz gerada sempre terá a característica de possuir 1 na última coluna ($x^0$), com cada coluna anterior sendo a posterior multiplicada por $x$.\n",
    "\n",
    "Faça uma função que, dado um vetor `x` e um `y` contendo os pontos a interpolar, retorne o vetor de coeficientes `c` de um polinômio que passe por todos os pontos de $(x,y)$:"
   ]
  },
  {
   "cell_type": "code",
   "execution_count": 3,
   "metadata": {
    "collapsed": true
   },
   "outputs": [],
   "source": [
    "def interpoli(x,y):\n",
    "    \n",
    "    return c"
   ]
  },
  {
   "cell_type": "markdown",
   "metadata": {},
   "source": [
    "Verifique o funcionamento da sua função para os pontos abaixo. Escolha 3 intervalos para o ponto 2008, com 2, 3 e 5 pontos. Ache os coeficientes para estes três intervalos e plote as três funções usando o código abaixo:"
   ]
  },
  {
   "cell_type": "code",
   "execution_count": 19,
   "metadata": {
    "scrolled": true
   },
   "outputs": [
    {
     "data": {
      "image/png": "[encoded data removed]",
      "text/plain": [
       "<matplotlib.figure.Figure at 0x119fdb3c8>"
      ]
     },
     "metadata": {},
     "output_type": "display_data"
    }
   ],
   "source": [
    "import numpy as np\n",
    "import matplotlib.pyplot as plt\n",
    "%matplotlib inline\n",
    "\n",
    "xauto = np.array([2005,2006,2007,2009,2010,2011,2013,2014,2015,2016])\n",
    "yauto = np.array([156490,173169,191347,230612,252274,271885,311179,328715,340477,347799\n",
    "])\n",
    "\n",
    "#x08_1,y08_1 = escolheIntervalo(xauto,yauto,2008,2)\n",
    "#x08_2,y08_2 = escolheIntervalo(xauto,yauto,2008,3)\n",
    "#x08_4,y08_4 = escolheIntervalo(xauto,yauto,2008,5)\n",
    "\n",
    "#c08_1 = interpoli(x08_1,y08_1)\n",
    "#c08_2 = interpoli(x08_2,y08_2)\n",
    "#c08_4 = interpoli(x08_4,y08_4)\n",
    "\n",
    "xplot = np.linspace(2005,2016,500)\n",
    "\n",
    "#yp08_1 = resolvePoli(c08_1,xplot)\n",
    "#yp08_2 = resolvePoli(c08_2,xplot)\n",
    "#yp08_4 = resolvePoli(c08_4,xplot)\n",
    "\n",
    "\n",
    "#plt.plot(xplot,y08_1,'g-.',label='Linear')\n",
    "#plt.plot(xplot,y08_2,'y-',label='Quadratico')\n",
    "#plt.plot(xplot,y08_4,'r--',label='Quarto Grau')\n",
    "plt.plot(xauto,yauto,'b.',label='Original')\n",
    "plt.ylabel('Numero de Automoveis em Manaus')\n",
    "plt.xlabel('Ano')\n",
    "plt.legend(loc='upper left')\n",
    "plt.show()"
   ]
  },
  {
   "cell_type": "markdown",
   "metadata": {},
   "source": [
    "Repita o processo acima para o ano de 2012:"
   ]
  },
  {
   "cell_type": "code",
   "execution_count": null,
   "metadata": {
    "collapsed": true
   },
   "outputs": [],
   "source": []
  },
  {
   "cell_type": "markdown",
   "metadata": {},
   "source": [
    "## Polinômio de Lagrange ##\n",
    "\n",
    "Vamos agora implementar o polinômio de Lagrange. Nele, ao invés de calcular os coeficientes do poliômio, se calcula diretamente o valor de f(x) baseado nos pontos usados para interpolar.\n",
    "\n",
    "A fórmula do polinômio de Lagrange é dada abaixo:\n",
    "\n",
    "$$\n",
    "L _ { n } ( x ) = \\sum _ { i = 0} ^ { n } y _ { i } \\prod _ { \\substack{j = 0\\\\j\\neq i}} ^ { n } \\frac { x - x _ { j } } { x _ { i } - x _ { j } }\n",
    "$$\n",
    "\n",
    "Implemente uma função que receba os pontos `x`, `y` e o valor a ser interpolado `xalvo` e retorne o valor de `f(xalvo)`:"
   ]
  },
  {
   "cell_type": "code",
   "execution_count": 9,
   "metadata": {
    "collapsed": true
   },
   "outputs": [],
   "source": [
    "def lagrange(x,y,xalvo):\n",
    "    \n",
    "    return yalvo"
   ]
  },
  {
   "cell_type": "markdown",
   "metadata": {},
   "source": [
    "Uma diferença na implementação do método de lagrange pode ser deixar a divisão para depois do produtório, diminuindo o número de divisões feitas pelo programa (ver algoritmo nos slides).\n",
    "\n",
    "Implemente uma versão de Lagrange que faça a divisão somente após o produtório:"
   ]
  },
  {
   "cell_type": "code",
   "execution_count": null,
   "metadata": {
    "collapsed": true
   },
   "outputs": [],
   "source": [
    "def lagranged(x,y,xalvo):\n",
    "    \n",
    "    return yalvo"
   ]
  },
  {
   "cell_type": "markdown",
   "metadata": {},
   "source": [
    "Verifique o funcionamento do polinômio de Lagrange nos dados de automóveis do exemplo acima, calculando os valores para 2008 e 2012 com 2,3 e 5 pontos. Compute a diferença de tempo entre as duas versões implementadas com o `%timeit`:"
   ]
  },
  {
   "cell_type": "code",
   "execution_count": null,
   "metadata": {
    "collapsed": true
   },
   "outputs": [],
   "source": []
  },
  {
   "cell_type": "markdown",
   "metadata": {},
   "source": [
    "## Polinômio de Newton ##\n",
    "\n",
    "Para computar o polinômio de Newton primeiramente deve-se computar o operador de Diferenças Divididas:\n",
    "$$\n",
    "\\Delta ^ { n } y _ { i } = \\frac { \\Delta ^ { n - 1} y _ { i + 1} - \\Delta ^ { n - 1} y _ { i } } { x _ { i + n } - x _ { i } }\n",
    "$$\n",
    "\n",
    "Implemente uma função que, dado `x` e `y`, retorne a matriz `d` com as diferenças divididas:"
   ]
  },
  {
   "cell_type": "code",
   "execution_count": 10,
   "metadata": {
    "collapsed": true
   },
   "outputs": [],
   "source": [
    "def difdiv(x,y):\n",
    "    \n",
    "    return d"
   ]
  },
  {
   "cell_type": "markdown",
   "metadata": {},
   "source": [
    "Faça agora uma função que, dado os pontos `x`,`y`, a matriz de diferenças divididas `d` e o ponto a ser interpolado `xalvo`, calcule o valor de `y`, de acordo com o polinômio interpolador de Newton:\n",
    "\n",
    "$$\n",
    "P _ { n } ( x ) = y _ { 0} + \\sum _ { i = 1} ^ { n } \\Delta _ { 0} ^ { i } y _ { 0} \\prod _ { j = 0} ^ { i - 1} \\left( x - x _ { j } \\right)\n",
    "$$"
   ]
  },
  {
   "cell_type": "code",
   "execution_count": 11,
   "metadata": {
    "collapsed": true
   },
   "outputs": [],
   "source": [
    "def poliNewton(x,y,d,xalvo):\n",
    "    \n",
    "    return y"
   ]
  },
  {
   "cell_type": "markdown",
   "metadata": {},
   "source": [
    "Verifique o funcionamento do polinômio de Newton nos dados de automóveis do exemplo acima, calculando os valores para 2008 e 2012 com 2,3 e 5 pontos:"
   ]
  },
  {
   "cell_type": "code",
   "execution_count": null,
   "metadata": {
    "collapsed": true
   },
   "outputs": [],
   "source": []
  }
 ],
 "metadata": {
  "kernelspec": {
   "display_name": "Python 3",
   "language": "python",
   "name": "python3"
  },
  "language_info": {
   "codemirror_mode": {
    "name": "ipython",
    "version": 3
   },
   "file_extension": ".py",
   "mimetype": "text/x-python",
   "name": "python",
   "nbconvert_exporter": "python",
   "pygments_lexer": "ipython3",
   "version": "3.6.4"
  }
 },
 "nbformat": 4,
 "nbformat_minor": 2
}
