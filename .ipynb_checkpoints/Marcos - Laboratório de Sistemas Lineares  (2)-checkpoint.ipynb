{
 "cells": [
  {
   "cell_type": "markdown",
   "metadata": {},
   "source": [
    "# Marcos Paulo Lopes #\n",
    "\n",
    "Nesta aula, iremos implementar métodos para encontrar vetores de solução $x$ para sistemas lineares no formato $Ax=b$.\n",
    "\n",
    "# Preliminares #\n",
    "\n",
    "### Resolvendo sistemas triangulares ###\n",
    "\n",
    "Normalmente, para resolver sistemas lineares, precisamos chegar de alguma forma a sistemas triangulares (inferiores ou superiores). Por que? Porque eles podem ser resolvidos pelo método das substituições retroativas.\n",
    "\n",
    "\n",
    "\n",
    "$$ x_{i} = \\frac{b_{i}-\\sum\\limits_{j=1}^{i-1}{a_{ij}x_{j}}}{a_{ii}} $$\n",
    "\n",
    "e\n",
    "\n",
    "$$ x_{i} = \\frac{b_{i}-\\sum\\limits_{j=i+1}^{n}{a_{ij}x_{j}}}{a_{ii}} $$\n",
    "\n",
    "Faça duas funções, que recebendo como parâmetro uma matriz $A$ triangular (superior ou inferior) e um vetor $b$, retorne o vetor solução $X$:"
   ]
  },
  {
   "cell_type": "code",
   "execution_count": 1,
   "metadata": {},
   "outputs": [],
   "source": [
    "import numpy as np"
   ]
  },
  {
   "cell_type": "code",
   "execution_count": 2,
   "metadata": {},
   "outputs": [],
   "source": [
    "def resolveTS(A,b): #A Triangular Superior\n",
    "    x = np.zeros(len(A))\n",
    "    for i in range(len(A)-1,-1,-1):\n",
    "        x[i] = (b[i] - (A[i][i+1:]*x[i+1:]).sum())/A[i][i]\n",
    "    return x\n",
    "\n",
    "def resolveTI(A,b): #A Triangular Inferior\n",
    "    x = np.zeros(len(b))\n",
    "    for i in range(len(b)):\n",
    "        x[i] = (b[i] - (A[i][:i]*x[:i]).sum())/A[i][i]\n",
    "    return x"
   ]
  },
  {
   "cell_type": "markdown",
   "metadata": {},
   "source": [
    "### Operações $l$-elementares ###\n",
    "\n",
    "Fazer operações $l$-elementares com matrizes numpy é bem simples: com `M[i]` você acessa a i-ésima linha:"
   ]
  },
  {
   "cell_type": "code",
   "execution_count": 3,
   "metadata": {},
   "outputs": [
    {
     "name": "stdout",
     "output_type": "stream",
     "text": [
      "[[ -8  -7  -5   9]\n",
      " [  9   1  -2  -4]\n",
      " [ -6 -10  -2  -9]\n",
      " [ -4  -4  -3   1]]\n",
      "Subtraindo uma linha por outra multiplicada por uma constante:\n",
      "[[ -8  -7  -5   9]\n",
      " [  9   1  -2  -4]\n",
      " [-24 -12   2  -1]\n",
      " [ -4  -4  -3   1]]\n",
      "Trocar duas linhas:\n",
      "[[ -8  -7  -5   9]\n",
      " [ -4  -4  -3   1]\n",
      " [-24 -12   2  -1]\n",
      " [  9   1  -2  -4]]\n"
     ]
    }
   ],
   "source": [
    "M = np.random.randint(-10,10,(4,4))\n",
    "print(M)\n",
    "\n",
    "print(\"Subtraindo uma linha por outra multiplicada por uma constante:\")\n",
    "M[2] = M[2] - M[1]*2\n",
    "print(M)\n",
    "\n",
    "print(\"Trocar duas linhas:\")\n",
    "\n",
    "M[[1,3]] = M[[3,1]]\n",
    "print(M)\n"
   ]
  },
  {
   "cell_type": "code",
   "execution_count": 4,
   "metadata": {},
   "outputs": [
    {
     "name": "stdout",
     "output_type": "stream",
     "text": [
      "Achar o maior elemento da matriz:\n",
      "1\n",
      "Achar o maior elemento da matriz em módulo:\n",
      "24\n",
      "9\n"
     ]
    }
   ],
   "source": [
    "print(\"Achar o maior elemento da matriz:\")\n",
    "print(M[1].max())\n",
    "\n",
    "print(\"Achar o maior elemento da matriz em módulo:\")\n",
    "print(abs(M[:][2]).max())\n",
    "\n",
    "# E PARA ACHAR O MAIOR ELEMENTO DE UMA LINHA?\n",
    "print(M[0][:].max())"
   ]
  },
  {
   "cell_type": "code",
   "execution_count": 5,
   "metadata": {},
   "outputs": [
    {
     "name": "stdout",
     "output_type": "stream",
     "text": [
      "Matriz transposta:\n",
      " [[ -4 -24]\n",
      " [ -4 -12]\n",
      " [ -3   2]\n",
      " [  1  -1]]\n",
      "Determinante de M:  1463.0\n",
      "Autovalores de uma matriz:\n",
      "[-21.24874123  12.19547353   0.95638174  -5.90311404]\n"
     ]
    }
   ],
   "source": [
    "print(\"Matriz transposta:\\n\",M[1:3].T)\n",
    "\n",
    "print(\"Determinante de M: \",np.linalg.det(M))\n",
    "\n",
    "print(\"Autovalores de uma matriz:\")\n",
    "\n",
    "(a,_) = np.linalg.eig(M) \n",
    "print(a)"
   ]
  },
  {
   "cell_type": "markdown",
   "metadata": {},
   "source": [
    "# Métodos Exatos #\n",
    "\n",
    "## Eliminação gaussiana ##\n",
    "\n",
    "Para fazer a eliminação gaussiana deve-se usar os elementos da diagonal principal de A como pivos para zerar os elementos da mesma coluna.\n",
    "\n",
    "Implemente a eliminação gaussiana simples (sem pivotação parcial):"
   ]
  },
  {
   "cell_type": "code",
   "execution_count": 6,
   "metadata": {},
   "outputs": [],
   "source": [
    "def eliminacaoGaussianaSimples(A,b):\n",
    "    Au = np.zeros(A.shape)\n",
    "    Ax = np.concatenate((A,b.reshape(len(b),1)),axis=1)\n",
    "    for i in range(len(Ax)-1):\n",
    "        Ax[i+1:] -= (Ax[i+1:,i]/Ax[i][i]).reshape((len(Au[i+1:]),1))*Ax[i]\n",
    "        \n",
    "    return resolveTS(Ax[:,:len(b)],Ax[:,len(b)])"
   ]
  },
  {
   "cell_type": "markdown",
   "metadata": {},
   "source": [
    "## Decomposição LU ##\n",
    "\n",
    "A decomposição LU é mais utilizada quando a mesma matriz de coeficientes $A$ é usada para várias soluções diferentes. Por isto, ela pode ser dividida em dois passos:\n",
    "\n",
    "- Decompor $A$ em $L$ e $U$ \n",
    "- Dados $L$, $U$ e $b$, achar a solução X\n",
    "\n",
    "Faça as duas funções, com a decomposição ainda sem pivotação parcial:"
   ]
  },
  {
   "cell_type": "code",
   "execution_count": 7,
   "metadata": {},
   "outputs": [],
   "source": [
    "def decompoeLU(A):\n",
    "    L = np.identity(len(A))\n",
    "    U = A.copy()\n",
    "    for i in range(len(A)-1):\n",
    "        L[i+1:,i] = U[i+1:,i]/U[i][i]\n",
    "        U[i+1:] -= L[i+1:,i].reshape((len(L[i+1:]),1))*U[i]\n",
    "    return L,U \n",
    "\n",
    "def resolveLU(L,U,b):\n",
    "    m = resolveTI(L,b)\n",
    "    r = resolveTS(U,m)\n",
    "    return r\n"
   ]
  },
  {
   "cell_type": "markdown",
   "metadata": {},
   "source": [
    "### Pivotação Parcial ###\n",
    "\n",
    "Sistemas onde o determinante de uma das submatrizes principais ($A_{1x1},A_{2x2},A_{3x3}...$) é igual a $0$ não podem ser resolvidos com a decomposição LU simples. Nestes casos, deve-se utilizar a pivotação parcial, onde o pivô é escolhido da linha com o maior elemento em módulo.\n",
    "\n",
    "Contudo, é importante guardar as trocas de linha que foram efetuadas na matriz de permutações $P$. Esta matriz é uma matriz identidade com as linhas trocadas junto com a pivotação. Por exemplo, se na primeira coluna o maior elemento está na linha três, este será o primeiro pivô (a linha 1 será trocada com a 3). Neste caso, na matriz $P$ também se troca estas linhas. No fim do processo:\n",
    "\n",
    "$PAx = Pb$\n",
    "\n",
    "$LUx=Pb$\n",
    "\n",
    "Então basta resolver trocando as linhas de b de através da multiplicação por P. Lembrem que multiplicar matrizes em numpy é:\n",
    "\n",
    "`p.dot(a)` ou `dot(p,a)`\n",
    "\n",
    "Implemente uma função que checa se a pivotação parcial é necessária e a decomposição LU com pivotação parcial:"
   ]
  },
  {
   "cell_type": "code",
   "execution_count": 8,
   "metadata": {},
   "outputs": [],
   "source": [
    "def verificaPivot(A):\n",
    "    pode=True\n",
    "    for i in range(len(A)):\n",
    "        if np.linalg.det(A[:i,:i]) == 0:\n",
    "            pode=False\n",
    "    return pode \n",
    "\n",
    "def LUpivpar(A):\n",
    "    bf = A.shape[0]\n",
    "    L = np.zeros(A.shape)\n",
    "    U = A.copy()\n",
    "    P = np.identity(bf)\n",
    "    for i in range(bf):\n",
    "        ch = np.argmax(np.abs(U[i:,i])) + i\n",
    "        U[[i,ch]] = U[[ch,i]]\n",
    "        L[[i,ch]] = L[[ch,i]]\n",
    "        P[[i,ch]] = P[[ch,i]]\n",
    "        L[i][i]=1\n",
    "        for j in range(i+1,bf):\n",
    "            ax = U[j][i]/U[i][i]\n",
    "            L[j][i] = ax\n",
    "            U[j] -= U[i]*ax\n",
    "    return L,U,P\n",
    "\n",
    "def resolveLUpar(L,U,P,b):\n",
    "    m = resolveTI(L,np.dot(P,b))\n",
    "    r = resolveTS(U,m)\n",
    "    return r\n"
   ]
  },
  {
   "cell_type": "markdown",
   "metadata": {},
   "source": [
    "#### Exercício ####\n",
    "\n",
    "Rode e verifique o tempo com `%timeit` da eliminação gaussiana, decomposição LU e LU com pivotação para o sistema abaixo. No caso da LU, calcule o tempo da decomposição e da solução dos sistemas:"
   ]
  },
  {
   "cell_type": "code",
   "execution_count": 9,
   "metadata": {},
   "outputs": [
    {
     "name": "stdout",
     "output_type": "stream",
     "text": [
      "1º Sistema:\n",
      "Eliminação de Gauss Simples: \t56.1 µs ± 13.2 µs per loop (mean ± std. dev. of 7 runs, 100 loops each)\n",
      "Decompor LU:\t 31 µs ± 4.12 µs per loop (mean ± std. dev. of 7 runs, 100 loops each)\n",
      "Resolvendo LU:\t 58.7 µs ± 38.7 µs per loop (mean ± std. dev. of 7 runs, 100 loops each)\n",
      "Decompor LU pivotação parcial/Resolver:118 µs ± 7.49 µs per loop (mean ± std. dev. of 7 runs, 100 loops each)\n",
      "Resolvendo LU pivparc:59.4 µs ± 8.35 µs per loop (mean ± std. dev. of 7 runs, 100 loops each)\n",
      "\n",
      "2º Sistema:\n",
      "Eliminação de Gauss Simples: \tThe slowest run took 5.33 times longer than the fastest. This could mean that an intermediate result is being cached.\n",
      "103 µs ± 81.9 µs per loop (mean ± std. dev. of 7 runs, 100 loops each)\n",
      "Decompor LU:\t 33.8 µs ± 6.99 µs per loop (mean ± std. dev. of 7 runs, 100 loops each)\n",
      "Resolvendo LU:\t 44 µs ± 2.48 µs per loop (mean ± std. dev. of 7 runs, 100 loops each)\n",
      "Decompor LU pivotação parcial/Resolver:122 µs ± 13.7 µs per loop (mean ± std. dev. of 7 runs, 100 loops each)\n",
      "Resolvendo LU pivparc:61.4 µs ± 25.1 µs per loop (mean ± std. dev. of 7 runs, 100 loops each)\n"
     ]
    }
   ],
   "source": [
    "#Sistema 1:\n",
    "print(\"1º Sistema:\")\n",
    "\n",
    "M1 = np.array([[1,-3,5,6], [-8,4,-1,0],[3,2,-2,7],[1,2,5,-4]],dtype='float')\n",
    "b1 = np.array([17,29,-11,7],dtype='float')\n",
    "\n",
    "print('Eliminação de Gauss Simples: \\t',end='')\n",
    "%timeit -n100 eliminacaoGaussianaSimples(M1,b1)\n",
    "print('Decompor LU:\\t ',end='')\n",
    "%timeit -n100 decompoeLU(M1)\n",
    "print('Resolvendo LU:\\t ',end='')\n",
    "L,U=decompoeLU(M1)\n",
    "%timeit -n100 resolveLU(L,U,b1)\n",
    "print('Decompor LU pivotação parcial/Resolver:',end='')\n",
    "%timeit -n100 LUpivpar(M1)\n",
    "print('Resolvendo LU pivparc:',end='')\n",
    "L,U,P=LUpivpar(M1)\n",
    "%timeit -n100 resolveLUpar(L,U,P,b1)\n",
    "\n",
    "\n",
    "\n",
    "#Sistema 2:\n",
    "print('\\n2º Sistema:')\n",
    "\n",
    "M2 = np.array([[-2,3,1,5],[5,1,-1,0],[1,6,3,-1],[4,5,2,8]],dtype='float')\n",
    "b2 = np.array([2,-1,0,6],dtype='float')\n",
    "\n",
    "print('Eliminação de Gauss Simples: \\t',end='')\n",
    "%timeit -n100 eliminacaoGaussianaSimples(M2,b2)\n",
    "print('Decompor LU:\\t ',end='')\n",
    "%timeit -n100 decompoeLU(M2)\n",
    "print('Resolvendo LU:\\t ',end='')\n",
    "L,U=decompoeLU(M2)\n",
    "%timeit -n100 resolveLU(L,U,b2)\n",
    "print('Decompor LU pivotação parcial/Resolver:',end='')\n",
    "%timeit -n100 LUpivpar(M2)\n",
    "print('Resolvendo LU pivparc:',end='')\n",
    "L,U,P=LUpivpar(M2)\n",
    "%timeit -n100 resolveLUpar(L,U,P,b2)"
   ]
  },
  {
   "cell_type": "markdown",
   "metadata": {},
   "source": [
    "## Cholesky ##\n",
    "\n",
    "O método de Cholesky só pode ser utilizado quando a matriz for:\n",
    "\n",
    "- Simétrica (igual a sua transposta)\n",
    "- Definida positiva: \n",
    "    - Todos os elementos da diagonal principal são positivos\n",
    "    - Todos os autovalores de $A$ são positivos\n",
    "    - Todas as submatrizes superiores possuem determinante __positivo__.\n",
    "\n",
    "Se for possível, o método de Cholesky é uma decomposição LU onde $U=L^{T}$, ou seja $LL^{T}x=b$.\n",
    "\n",
    "Lembrando que na decomposição de Cholesky os elementos da diagonal principal de L são:\n",
    "\n",
    "$$l_{jj} = \\sqrt{a_{jj}-\\sum\\limits_{k=1}^{j-1}{l_{jk}^2}, j = 1,2,...,n}$$\n",
    "\n",
    "E os fora da diagonal principal são:\n",
    "\n",
    "$$ l_{ij} = \\frac{a_{ij}-\\sum\\limits_{k=1}^{j-1}{l_{ik}l_{jk}}}{l_{jj}} $$\n",
    "\n",
    "Desta forma, faça uma função para determinar se uma matriz pode ser resolvida via Cholesky e uma para encontrar L (para resolver pode-se usar `resolveLU(L,L.T,b)`):"
   ]
  },
  {
   "cell_type": "code",
   "execution_count": 10,
   "metadata": {},
   "outputs": [],
   "source": [
    "def verificaCholesky(A):\n",
    "    pode=True\n",
    "    if (A == A.T).all() and (A.diagonal() > 0).all() and (np.linalg.eig(A)[0] > 0).all() and verificaPivot(A) == True:\n",
    "        pode=True\n",
    "    else:\n",
    "        pode=False\n",
    "    return pode\n",
    "\n",
    "def geraCholesky(A):\n",
    "    L = np.zeros((len(A),len(A)))\n",
    "    for i in range(len(A)):\n",
    "        for j in range(i,len(A)):\n",
    "            if i==j:\n",
    "                L[j][i] = np.sqrt(A[j][i] - sum([L[i][k]**2 for k in range(i)]))\n",
    "            else:\n",
    "                L[j][i] = (A[j][i] - sum(L[j][k]*L[i][k] for k in range(i)))/L[i][i]\n",
    "    return L\n"
   ]
  },
  {
   "cell_type": "markdown",
   "metadata": {},
   "source": [
    "No método de Cholesky, por ser uma matriz simétrica, podemos, ao invés de calcular o determinante normalmente, usar a seguinte definição:\n",
    "\n",
    "$$ det(A) = det(L)det(L') $$\n",
    "\n",
    "$$ det(A) = \\bigg(\\prod_{i=1}^{n}{l_{ii}}\\bigg)^2 $$"
   ]
  },
  {
   "cell_type": "code",
   "execution_count": 11,
   "metadata": {},
   "outputs": [],
   "source": [
    "def detCholesky(M):\n",
    "    det = 1\n",
    "    for i in range(len(M)):\n",
    "        det*=M[i][i]\n",
    "    det**=2\n",
    "    return det"
   ]
  },
  {
   "cell_type": "markdown",
   "metadata": {},
   "source": [
    "#### Exercicios ####\n",
    "\n",
    "1 - Verifique se os seguintes sistemas podem ser resolvidas via Choleski\n",
    "\n",
    "2 - Compare o tempo para decomposição LU das que são possíveis com a de Choleski usando `%timeit`\n",
    "\n",
    "3 - Compare o tempo do calculo do determinante de numpy com o determinante específico para matrizes para choleski"
   ]
  },
  {
   "cell_type": "code",
   "execution_count": 12,
   "metadata": {},
   "outputs": [
    {
     "name": "stdout",
     "output_type": "stream",
     "text": [
      "3º Sistema:\n",
      "Condicao Cholesky: True\n",
      "Gera Cholesky:\t 23.6 µs ± 9.16 µs per loop (mean ± std. dev. of 7 runs, 100 loops each)\n",
      "Decompor LU: 24.4 µs ± 7.98 µs per loop (mean ± std. dev. of 7 runs, 100 loops each)\n",
      "Det. Numpy:    7.5 µs ± 3.38 µs per loop (mean ± std. dev. of 7 runs, 100 loops each)\n",
      "Det. Cholesky: 1.85 µs ± 103 ns per loop (mean ± std. dev. of 7 runs, 100 loops each)\n",
      "\n",
      "4º Sistema:\n",
      "Condicao Cholesky: True\n",
      "Gera Cholesky:\t The slowest run took 6.43 times longer than the fastest. This could mean that an intermediate result is being cached.\n",
      "60.2 µs ± 61.7 µs per loop (mean ± std. dev. of 7 runs, 100 loops each)\n",
      "Decompor LU: 29.7 µs ± 1.99 µs per loop (mean ± std. dev. of 7 runs, 100 loops each)\n",
      "Det. Numpy:    7.26 µs ± 2.34 µs per loop (mean ± std. dev. of 7 runs, 100 loops each)\n",
      "Det. Cholesky: 2.13 µs ± 133 ns per loop (mean ± std. dev. of 7 runs, 100 loops each)\n",
      "\n",
      "5º Sistema:\n",
      "Condicao Cholesky:  False\n"
     ]
    }
   ],
   "source": [
    "print('3º Sistema:')\n",
    "\n",
    "M3 = np.array([[9,-6,3],[-6,29,-7],[3,-7,18]],dtype='float')\n",
    "b3 = np.array([-3,-8,33],dtype='float')\n",
    "\n",
    "print('Condicao Cholesky:',verificaCholesky(M3))\n",
    "print('Gera Cholesky:\\t ',end='')\n",
    "%timeit -n100 geraCholesky(M3)\n",
    "print('Decompor LU: ',end='')\n",
    "%timeit -n100 decompoeLU(M3)\n",
    "print('Det. Numpy:    ',end='')\n",
    "%timeit -n100 np.linalg.det(M3)\n",
    "print('Det. Cholesky: ',end='')\n",
    "A=geraCholesky(M3)\n",
    "%timeit -n100 detCholesky(A)\n",
    "\n",
    "print('\\n4º Sistema:')\n",
    "\n",
    "M4 = np.array([[4,-2,4,10],[-2,2,-1,-7],[4,-1,14,11],[10,-7,11,31]],dtype='float')\n",
    "b4 = np.array([2,2,-1,-2],dtype='float')\n",
    "\n",
    "print('Condicao Cholesky:',verificaCholesky(M4))\n",
    "print('Gera Cholesky:\\t ',end='')\n",
    "%timeit -n100 geraCholesky(M4)\n",
    "print('Decompor LU: ',end='')\n",
    "%timeit -n100 decompoeLU(M4)\n",
    "print('Det. Numpy:    ',end='')\n",
    "%timeit -n100 np.linalg.det(M4)\n",
    "print('Det. Cholesky: ',end='')\n",
    "A=geraCholesky(M4)\n",
    "%timeit -n100 detCholesky(A)\n",
    "\n",
    "print('\\n5º Sistema:')\n",
    "\n",
    "M5 = np.array([[16,-4,4,12],[-4,2,-1,-7],[4,-1,26,13],[12,-7,13,25]],dtype='float') #Nao faz Cholesky\n",
    "b5 = np.array([2,2,-1,-2],dtype='float')\n",
    "\n",
    "print('Condicao Cholesky: ',verificaCholesky(M5))"
   ]
  },
  {
   "cell_type": "code",
   "execution_count": null,
   "metadata": {},
   "outputs": [],
   "source": []
  }
 ],
 "metadata": {
  "kernelspec": {
   "display_name": "Python 3",
   "language": "python",
   "name": "python3"
  },
  "language_info": {
   "codemirror_mode": {
    "name": "ipython",
    "version": 3
   },
   "file_extension": ".py",
   "mimetype": "text/x-python",
   "name": "python",
   "nbconvert_exporter": "python",
   "pygments_lexer": "ipython3",
   "version": "3.6.5"
  }
 },
 "nbformat": 4,
 "nbformat_minor": 2
}
