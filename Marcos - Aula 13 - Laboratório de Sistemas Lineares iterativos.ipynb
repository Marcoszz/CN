{
 "cells": [
  {
   "cell_type": "markdown",
   "metadata": {},
   "source": [
    "# Métodos Iterativos #\n",
    "\n",
    "### Critérios de parada ###\n",
    "\n",
    "Antes de implementarmos os métodos iterativos, temos que implementar um método para o critério de parada. No nosso caso, usaremos a _norma infinita_. A norma infinita é dada por:\n",
    "\n",
    "$$\\lVert v \\rVert_{\\infty} = \\max_{1\\leq i\\leq n}|v_i|$$ \n",
    "\n",
    "E a distância entre duas soluções iteradas $x^k$ e $x^{k-1}$ pode ser dada por:\n",
    "\n",
    "$$ \\frac{\\lVert x^k - x^{k-1} \\rVert_{\\infty}}{\\lVert x^k\\rVert_{\\infty}} = \\frac{\\max\\limits_{1\\leq i\\leq n}|x_i^{k} - x_i^{k-1}|}{\\max\\limits_{1\\leq i\\leq n}|x_i^k|} \\leq \\epsilon$$\n",
    "\n",
    "Faça uma função para retornar a distância usando a norma infinita de dois vetores:"
   ]
  },
  {
   "cell_type": "code",
   "execution_count": 3,
   "metadata": {},
   "outputs": [],
   "source": [
    "import numpy as np"
   ]
  },
  {
   "cell_type": "code",
   "execution_count": 4,
   "metadata": {},
   "outputs": [],
   "source": [
    "#v1=k\n",
    "#v2=k+1\n",
    "def normaInfinita(v1,v2):\n",
    "    norma=np.abs(v2-v1).max()/np.abs(v2).max()\n",
    "    return norma"
   ]
  },
  {
   "cell_type": "markdown",
   "metadata": {},
   "source": [
    "## Jacobi ##\n",
    "\n",
    "Para resolver o método de Jacobi, se deve decompor a matriz $A$ em três matrizes compostas dos seus elementos, $D$ (Diagonal), $E$ (triangular inferior) e $F$ (triangular superior).\n",
    "\n",
    "De posse destes elementos, deve-se utilizar esta fórmula de iteração:\n",
    "\n",
    "$$ x^{k+1}=-D^{-1}(E+F)x+D^{-1}b $$\n",
    "\n",
    "Lembrando que para D ter inversa, nenhum elemento da diagonal principal de A pode ser nulo.\n",
    "\n",
    "Desta forma, eu posso utilizar a forma matricial acima para computar as respostas. Implemente o método de Jacobi matricial abaixo:"
   ]
  },
  {
   "cell_type": "code",
   "execution_count": 5,
   "metadata": {},
   "outputs": [],
   "source": [
    "#Não pode ter elemento nulo na diagonal principal\n",
    "\n",
    "def jacobim(A,b,niter=1000,minimo = 0.000001):\n",
    "    D=np.zeros((len(A),len(A)))\n",
    "    E=np.zeros((len(A),len(A)))\n",
    "    F=np.zeros((len(A),len(A)))\n",
    "    x=np.zeros(len(b))\n",
    "    ant=x.copy()\n",
    "    k=1\n",
    "    for i in range(len(A)):\n",
    "        for j in range(len(A)):\n",
    "            if i == j:\n",
    "                D[i][j]=A[i][j]\n",
    "            elif i < j:\n",
    "                F[i][j]=A[i][j]\n",
    "            else:\n",
    "                E[i][j]=A[i][j]\n",
    "    J=-1*(D.T)*(E+F)\n",
    "    while(k<niter):\n",
    "        for z in range(x):\n",
    "            x[z]=J*ant[z]+(D.T)*b\n",
    "        if(normaInfinita(ant,x)>minimo):\n",
    "            ant=x.copy()\n",
    "        else:\n",
    "            break\n",
    "        k+=1\n",
    "    print(k)\n",
    "    return x"
   ]
  },
  {
   "cell_type": "code",
   "execution_count": 8,
   "metadata": {},
   "outputs": [
    {
     "ename": "TypeError",
     "evalue": "only integer scalar arrays can be converted to a scalar index",
     "output_type": "error",
     "traceback": [
      "\u001b[0;31m---------------------------------------------------------------------------\u001b[0m",
      "\u001b[0;31mTypeError\u001b[0m                                 Traceback (most recent call last)",
      "\u001b[0;32m<ipython-input-8-64f56a656832>\u001b[0m in \u001b[0;36m<module>\u001b[0;34m()\u001b[0m\n\u001b[1;32m      1\u001b[0m \u001b[0mA\u001b[0m\u001b[0;34m=\u001b[0m\u001b[0mnp\u001b[0m\u001b[0;34m.\u001b[0m\u001b[0marray\u001b[0m\u001b[0;34m(\u001b[0m\u001b[0;34m(\u001b[0m\u001b[0;34m[\u001b[0m\u001b[0;36m10\u001b[0m\u001b[0;34m,\u001b[0m\u001b[0;36m3\u001b[0m\u001b[0;34m,\u001b[0m\u001b[0;34m-\u001b[0m\u001b[0;36m2\u001b[0m\u001b[0;34m]\u001b[0m\u001b[0;34m,\u001b[0m\u001b[0;34m[\u001b[0m\u001b[0;36m2\u001b[0m\u001b[0;34m,\u001b[0m\u001b[0;36m8\u001b[0m\u001b[0;34m,\u001b[0m\u001b[0;34m-\u001b[0m\u001b[0;36m1\u001b[0m\u001b[0;34m]\u001b[0m\u001b[0;34m,\u001b[0m\u001b[0;34m[\u001b[0m\u001b[0;36m1\u001b[0m\u001b[0;34m,\u001b[0m\u001b[0;36m1\u001b[0m\u001b[0;34m,\u001b[0m\u001b[0;36m5\u001b[0m\u001b[0;34m]\u001b[0m\u001b[0;34m)\u001b[0m\u001b[0;34m)\u001b[0m\u001b[0;34m\u001b[0m\u001b[0m\n\u001b[1;32m      2\u001b[0m \u001b[0mb\u001b[0m\u001b[0;34m=\u001b[0m\u001b[0mnp\u001b[0m\u001b[0;34m.\u001b[0m\u001b[0marray\u001b[0m\u001b[0;34m(\u001b[0m\u001b[0;34m[\u001b[0m\u001b[0;36m57\u001b[0m\u001b[0;34m,\u001b[0m\u001b[0;36m20\u001b[0m\u001b[0;34m,\u001b[0m\u001b[0;34m-\u001b[0m\u001b[0;36m4\u001b[0m\u001b[0;34m]\u001b[0m\u001b[0;34m)\u001b[0m\u001b[0;34m\u001b[0m\u001b[0m\n\u001b[0;32m----> 3\u001b[0;31m \u001b[0mjacobim\u001b[0m\u001b[0;34m(\u001b[0m\u001b[0mA\u001b[0m\u001b[0;34m,\u001b[0m\u001b[0mb\u001b[0m\u001b[0;34m,\u001b[0m\u001b[0;36m1000\u001b[0m\u001b[0;34m,\u001b[0m\u001b[0;36m0.000001\u001b[0m\u001b[0;34m)\u001b[0m\u001b[0;34m\u001b[0m\u001b[0m\n\u001b[0m",
      "\u001b[0;32m<ipython-input-5-63f0c356ca26>\u001b[0m in \u001b[0;36mjacobim\u001b[0;34m(A, b, niter, minimo)\u001b[0m\n\u001b[1;32m     18\u001b[0m     \u001b[0mJ\u001b[0m\u001b[0;34m=\u001b[0m\u001b[0;34m-\u001b[0m\u001b[0;36m1\u001b[0m\u001b[0;34m*\u001b[0m\u001b[0;34m(\u001b[0m\u001b[0mD\u001b[0m\u001b[0;34m.\u001b[0m\u001b[0mT\u001b[0m\u001b[0;34m)\u001b[0m\u001b[0;34m*\u001b[0m\u001b[0;34m(\u001b[0m\u001b[0mE\u001b[0m\u001b[0;34m+\u001b[0m\u001b[0mF\u001b[0m\u001b[0;34m)\u001b[0m\u001b[0;34m\u001b[0m\u001b[0m\n\u001b[1;32m     19\u001b[0m     \u001b[0;32mwhile\u001b[0m\u001b[0;34m(\u001b[0m\u001b[0mk\u001b[0m\u001b[0;34m<\u001b[0m\u001b[0mniter\u001b[0m\u001b[0;34m)\u001b[0m\u001b[0;34m:\u001b[0m\u001b[0;34m\u001b[0m\u001b[0m\n\u001b[0;32m---> 20\u001b[0;31m         \u001b[0;32mfor\u001b[0m \u001b[0mz\u001b[0m \u001b[0;32min\u001b[0m \u001b[0mrange\u001b[0m\u001b[0;34m(\u001b[0m\u001b[0mx\u001b[0m\u001b[0;34m)\u001b[0m\u001b[0;34m:\u001b[0m\u001b[0;34m\u001b[0m\u001b[0m\n\u001b[0m\u001b[1;32m     21\u001b[0m             \u001b[0mx\u001b[0m\u001b[0;34m[\u001b[0m\u001b[0mz\u001b[0m\u001b[0;34m]\u001b[0m\u001b[0;34m=\u001b[0m\u001b[0mJ\u001b[0m\u001b[0;34m*\u001b[0m\u001b[0mant\u001b[0m\u001b[0;34m[\u001b[0m\u001b[0mz\u001b[0m\u001b[0;34m]\u001b[0m\u001b[0;34m+\u001b[0m\u001b[0mD\u001b[0m\u001b[0;34m.\u001b[0m\u001b[0mT\u001b[0m\u001b[0;34m*\u001b[0m\u001b[0mb\u001b[0m\u001b[0;34m\u001b[0m\u001b[0m\n\u001b[1;32m     22\u001b[0m         \u001b[0;32mif\u001b[0m\u001b[0;34m(\u001b[0m\u001b[0mnormaInfinita\u001b[0m\u001b[0;34m(\u001b[0m\u001b[0mant\u001b[0m\u001b[0;34m,\u001b[0m\u001b[0mx\u001b[0m\u001b[0;34m)\u001b[0m\u001b[0;34m>\u001b[0m\u001b[0mminimo\u001b[0m\u001b[0;34m)\u001b[0m\u001b[0;34m:\u001b[0m\u001b[0;34m\u001b[0m\u001b[0m\n",
      "\u001b[0;31mTypeError\u001b[0m: only integer scalar arrays can be converted to a scalar index"
     ]
    }
   ],
   "source": [
    "A=np.array(([10,3,-2],[2,8,-1],[1,1,5]))\n",
    "b=np.array([57,20,-4])\n",
    "jacobim(A,b,1000,0.000001)"
   ]
  },
  {
   "cell_type": "markdown",
   "metadata": {},
   "source": [
    "\n",
    "\n",
    "\n",
    "\n",
    "\n",
    "\n",
    ",0,Outra forma de implementar Jacobi é através da fórmula escalar:\n",
    "\n",
    "$$x_i^{k+1}=\\frac{1}{a_{ii}} - \\left( \\sum\\limits_{\\substack{j=1 \\\\ i\\neq j}}^{n}{a_{ij}x_j^k+b_i} \\right)$$\n",
    "\n",
    "Implemente a forma escalar do jacobi:"
   ]
  },
  {
   "cell_type": "code",
   "execution_count": null,
   "metadata": {
    "collapsed": true
   },
   "outputs": [],
   "source": [
    "def jacobie(A,b,niter=1000,minimo = 0.000001):\n",
    "    \n",
    "    return x"
   ]
  },
  {
   "cell_type": "markdown",
   "metadata": {},
   "source": [
    "Para o método de Jacobi (e o Gauss-Seidel) convergirem para um resultado correto, elas tem que ter condições de convergência:\n",
    "\n",
    "- Condição suficiente: Elementos da diagonal principal estritamente dominantes.\n",
    "\n",
    "$$ |a_{ii}|> \\sum\\limits_{\\substack{j=1 \\\\ j\\neq i}}^{n}{|a_{ij}|,i=1,2,...,n}$$\n",
    "\n",
    "Esta condição se verdadeira garante a convergência. Contudo, mesmo se ela for falsa o sistema ainda pode convergir.\n",
    "\n",
    "- Condição necessária: $\\rho(M)<1$, sendo $\\rho(M)$ o raio espectral, o maior autovalor em módulo.\n",
    "\n",
    "Faça uma função que verifique se um sistema com uma matriz de coeficientes A pode ser solucionado via jacobi, testando primeiro a condição suficiente e, em caso negativo, testando a condição necessária:"
   ]
  },
  {
   "cell_type": "code",
   "execution_count": null,
   "metadata": {
    "collapsed": true
   },
   "outputs": [],
   "source": [
    "def podeJacobi(A):\n",
    "    \n",
    "    return pode"
   ]
  },
  {
   "cell_type": "markdown",
   "metadata": {},
   "source": [
    "## Gauss-Seidel ##\n",
    "\n",
    "Função de iteração:\n",
    "\n",
    "$$ x^{k+1}=D^{-1}(-Ex^{k+1}-Fx^{k}+b)$$\n",
    "\n",
    "Lembrando que multiplicar por $D^{-1}$ é o mesmo que dividir cada linha pelo elemento da diagonal principal desta linha em A\n",
    "\n",
    "A forma mais simples de fazer o Gauss Seidel matricialmente é linha a linha (calculando a formula acima pra cada linha da solução X)\n",
    "\n",
    "Implemente Gauss-Seidel na forma Matricial e na forma escalar (acessando os elementos individualmente das matrizes)"
   ]
  },
  {
   "cell_type": "code",
   "execution_count": null,
   "metadata": {
    "collapsed": true
   },
   "outputs": [],
   "source": [
    "def gaussM(A,b,niter=1000,minimo = 0.000001):\n",
    "    \n",
    "    return x\n",
    "\n",
    "def gaussE(A,b,niter=1000,minimo = 0.000001):\n",
    "    \n",
    "    return x"
   ]
  },
  {
   "cell_type": "markdown",
   "metadata": {},
   "source": [
    "#### Exercicios ####\n",
    "\n",
    "1 - Tente resolver todos os sistemas (de M1 a M5) com Jacobi e Gauss-Seidel, tanto na forma matricial quanto na escalar e, nos casos em que o resultado _divergir_, verifique a condição de convergência dos métodos.\n",
    "\n",
    "2 - Use todos os métodos (Gauss, LU com pivotação, Choleski, Jacobi e Gauss-Seidel) e marquem o tempo com `%timeit -n1` para o seguinte sistema:"
   ]
  },
  {
   "cell_type": "code",
   "execution_count": 13,
   "metadata": {},
   "outputs": [
    {
     "name": "stdout",
     "output_type": "stream",
     "text": [
      "[[19  9 11 ...,  9 12  4]\n",
      " [ 9  8 18 ..., 17  4  7]\n",
      " [12 14 14 ..., 17 17  7]\n",
      " ..., \n",
      " [13  9  8 ...,  1 13 14]\n",
      " [10 17  5 ...,  9 15 12]\n",
      " [12  6 18 ..., 13 12  7]]\n"
     ]
    }
   ],
   "source": [
    "MF = np.random.randint(1,20,(10000,10000))\n",
    "bF = np.random.randint(-1000,1000,10000)\n",
    "print(MF)"
   ]
  },
  {
   "cell_type": "code",
   "execution_count": null,
   "metadata": {
    "collapsed": true
   },
   "outputs": [],
   "source": []
  }
 ],
 "metadata": {
  "kernelspec": {
   "display_name": "Python 3",
   "language": "python",
   "name": "python3"
  },
  "language_info": {
   "codemirror_mode": {
    "name": "ipython",
    "version": 3
   },
   "file_extension": ".py",
   "mimetype": "text/x-python",
   "name": "python",
   "nbconvert_exporter": "python",
   "pygments_lexer": "ipython3",
   "version": "3.6.4"
  }
 },
 "nbformat": 4,
 "nbformat_minor": 2
}
